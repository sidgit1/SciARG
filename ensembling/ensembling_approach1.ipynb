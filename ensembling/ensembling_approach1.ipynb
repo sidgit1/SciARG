{
 "cells": [
  {
   "cell_type": "code",
   "execution_count": 2,
   "id": "7c650267",
   "metadata": {},
   "outputs": [],
   "source": [
    "import numpy as np\n",
    "import pickle\n",
    "import pandas as pd\n",
    "import matplotlib.pyplot as plt\n",
    "\n",
    "%matplotlib inline"
   ]
  },
  {
   "cell_type": "code",
   "execution_count": 3,
   "id": "ebff2c4d",
   "metadata": {},
   "outputs": [],
   "source": [
    "# test_df=pd.read_excel('../../data/data.xlsx', sheet_name=2)\n",
    "test_df=pd.read_excel('../../data/connor.xlsx', sheet_name=0)\n",
    "\n",
    "def components(df):\n",
    "    labels = list(df['labels'])\n",
    "    return labels\n",
    "test_labels=components(test_df)"
   ]
  },
  {
   "cell_type": "code",
   "execution_count": 14,
   "id": "d506e1fc",
   "metadata": {},
   "outputs": [],
   "source": [
    "test_df=pd.read_excel('../../data/data.xlsx', sheet_name=1)\n",
    "def components(df):\n",
    "    labels = list(df['labels'])\n",
    "    return labels\n",
    "val_labels=components(test_df)"
   ]
  },
  {
   "cell_type": "code",
   "execution_count": 15,
   "id": "41bcb89d",
   "metadata": {},
   "outputs": [
    {
     "data": {
      "text/plain": [
       "286"
      ]
     },
     "execution_count": 15,
     "metadata": {},
     "output_type": "execute_result"
    }
   ],
   "source": [
    "len(val_labels)"
   ]
  },
  {
   "cell_type": "code",
   "execution_count": 43,
   "id": "323dbfa5",
   "metadata": {},
   "outputs": [],
   "source": [
    "with open('2000/test_labels/sentiment_25_labels.txt', 'rb') as f:\n",
    "    sentiment_test_labels = pickle.load(f)\n",
    "f.close()"
   ]
  },
  {
   "cell_type": "code",
   "execution_count": 37,
   "id": "b04c7172",
   "metadata": {},
   "outputs": [],
   "source": [
    "with open('2000/val_labels/sentiment_25_labels.txt', 'rb') as f:\n",
    "    sentiment_val_labels = pickle.load(f)\n",
    "f.close()"
   ]
  },
  {
   "cell_type": "code",
   "execution_count": 44,
   "id": "d3ee3732",
   "metadata": {},
   "outputs": [],
   "source": [
    "with open('2000/test_labels/prompt1_25_labels.txt', 'rb') as f:\n",
    "    prompt1_test_labels = pickle.load(f)\n",
    "f.close()"
   ]
  },
  {
   "cell_type": "code",
   "execution_count": 38,
   "id": "dea3d4b8",
   "metadata": {},
   "outputs": [],
   "source": [
    "with open('2000/val_labels/prompt1_25_labels.txt', 'rb') as f:\n",
    "    prompt1_val_labels = pickle.load(f)\n",
    "f.close()"
   ]
  },
  {
   "cell_type": "code",
   "execution_count": 45,
   "id": "ef25254b",
   "metadata": {},
   "outputs": [],
   "source": [
    "with open('2000/test_labels/prompt2_50_labelsf1.txt', 'rb') as f:\n",
    "    prompt2_test_labels = pickle.load(f)\n",
    "f.close()"
   ]
  },
  {
   "cell_type": "code",
   "execution_count": 39,
   "id": "ea65cf3d",
   "metadata": {},
   "outputs": [],
   "source": [
    "with open('2000/val_labels/prompt2_50_labelsf1.txt', 'rb') as f:\n",
    "    prompt2_val_labels = pickle.load(f)\n",
    "f.close()"
   ]
  },
  {
   "cell_type": "code",
   "execution_count": 22,
   "id": "8693c04d",
   "metadata": {},
   "outputs": [
    {
     "data": {
      "text/plain": [
       "286"
      ]
     },
     "execution_count": 22,
     "metadata": {},
     "output_type": "execute_result"
    }
   ],
   "source": [
    "len(val_labels)"
   ]
  },
  {
   "cell_type": "markdown",
   "id": "6c376d4b",
   "metadata": {},
   "source": [
    "# Connor"
   ]
  },
  {
   "cell_type": "code",
   "execution_count": 4,
   "id": "a956ff4f",
   "metadata": {},
   "outputs": [
    {
     "name": "stdout",
     "output_type": "stream",
     "text": [
      "tp 32\n",
      "fp 38\n",
      "tn 28\n",
      "fn 2\n",
      "pos_precision 0.45714285714285713\n",
      "pos_recall 0.9411764705882353\n",
      "pos_f1 0.6153846153846154\n",
      "neg_precision 0.9333333333333333\n",
      "neg_recall 0.42424242424242425\n",
      "neg_f1 0.5833333333333333\n"
     ]
    }
   ],
   "source": [
    "#using all the models\n",
    "sentiment_test_labels=[0, 0, 1, 1, 1, 1, 1, 1, 0, 1, 1, 0, 1, 0, 1, 1, 1, 1, 1, 1, 1, 0, 0, 1, 1, 0, 1, 1, 1, 1, 0, 1, 1, 0, 1, 1, 1, 1, 1, 0, 1, 1, 1, 1, 1, 1, 1, 1, 1, 1, 1, 0, 0, 1, 1, 0, 0, 1, 1, 1, 1, 1, 1, 1, 1, 1, 1, 1, 1, 1, 1, 0, 1, 1, 1, 1, 1, 1, 1, 1, 1, 0, 1, 1, 1, 1, 0, 0, 1, 0, 0, 1, 1, 1, 0, 0, 1, 1, 1, 1]\n",
    "prompt1_test_labels=[1, 1, 1, 1, 1, 1, 1, 1, 1, 1, 1, 1, 1, 1, 1, 1, 1, 1, 1, 1, 1, 0, 0, 1, 1, 1, 1, 1, 1, 1, 1, 1, 0, 1, 1, 1, 1, 1, 1, 1, 1, 1, 1, 1, 0, 1, 1, 1, 1, 1, 1, 1, 0, 1, 1, 1, 1, 1, 1, 1, 1, 1, 1, 1, 1, 1, 1, 1, 1, 1, 1, 1, 1, 1, 1, 1, 1, 1, 1, 1, 1, 0, 1, 0, 1, 1, 1, 1, 1, 1, 1, 1, 1, 1, 1, 0, 0, 1, 1, 1]\n",
    "prompt2_test_labels=[1, 1, 1, 1, 1, 1, 1, 0, 1, 1, 1, 1, 1, 0, 1, 1, 1, 1, 1, 1, 1, 1, 1, 1, 1, 1, 1, 1, 1, 1, 1, 1, 1, 1, 1, 1, 1, 1, 1, 1, 1, 1, 1, 1, 1, 1, 1, 1, 1, 1, 1, 1, 1, 0, 1, 1, 1, 1, 1, 1, 1, 1, 1, 1, 1, 1, 1, 1, 1, 1, 1, 1, 1, 1, 1, 1, 1, 1, 0, 1, 1, 0, 1, 0, 1, 1, 1, 0, 1, 0, 0, 0, 1, 1, 1, 0, 1, 1, 0, 1]\n",
    "common_pred=0\n",
    "pos_ind=[]\n",
    "pos=0\n",
    "neg=0\n",
    "tp=0\n",
    "fp=0\n",
    "tn=0\n",
    "fn=0\n",
    "for i in range(len(sentiment_test_labels)):\n",
    "    if sentiment_test_labels[i]==prompt1_test_labels[i] and prompt1_test_labels[i]==prompt2_test_labels[i] and test_labels[i]==1:\n",
    "        tp+=1\n",
    "    elif sentiment_test_labels[i]==prompt1_test_labels[i] and prompt1_test_labels[i]==prompt2_test_labels[i] and test_labels[i]==0:\n",
    "        fp+=1\n",
    "    elif test_labels[i]==0:\n",
    "        tn+=1\n",
    "    elif test_labels[i]==1:\n",
    "        fn+=1\n",
    "# print(f\"common_pred: {common_pred}\")\n",
    "# print(f\"pos: {pos}; len_pos_ind:{len(pos_ind)}\")\n",
    "# print(f\"neg: {neg}\")\n",
    "print(f\"tp {tp}\")\n",
    "print(f\"fp {fp}\")\n",
    "print(f\"tn {tn}\")\n",
    "print(f\"fn {fn}\")\n",
    "print(f\"pos_precision {tp/(tp+fp)}\")\n",
    "print(f\"pos_recall {tp/(tp+fn)}\")\n",
    "print(f\"pos_f1 {(2*(tp/(tp+fp))*(tp/(tp+fn)))/((tp/(tp+fp))+(tp/(tp+fn)))}\")\n",
    "print(f\"neg_precision {tn/(tn+fn)}\")\n",
    "print(f\"neg_recall {tn/(tn+fp)}\")\n",
    "print(f\"neg_f1 {(2*(tn/(tn+fn))*(tn/(tn+fp)))/((tn/(tn+fn))+(tn/(tn+fp)))}\")"
   ]
  },
  {
   "cell_type": "code",
   "execution_count": null,
   "id": "1e0bc839",
   "metadata": {},
   "outputs": [],
   "source": []
  },
  {
   "cell_type": "code",
   "execution_count": null,
   "id": "fea588a0",
   "metadata": {},
   "outputs": [],
   "source": []
  },
  {
   "cell_type": "code",
   "execution_count": null,
   "id": "84d38832",
   "metadata": {},
   "outputs": [],
   "source": []
  },
  {
   "cell_type": "markdown",
   "id": "43da02cb",
   "metadata": {},
   "source": [
    "# 2000eval"
   ]
  },
  {
   "cell_type": "code",
   "execution_count": 82,
   "id": "71abbfdf",
   "metadata": {},
   "outputs": [
    {
     "data": {
      "text/plain": [
       "count    2000.000000\n",
       "mean        0.792319\n",
       "std         0.398396\n",
       "min         0.012410\n",
       "25%         0.995808\n",
       "50%         0.996098\n",
       "75%         0.996136\n",
       "max         0.996217\n",
       "dtype: float64"
      ]
     },
     "execution_count": 82,
     "metadata": {},
     "output_type": "execute_result"
    }
   ],
   "source": [
    "sentiment_test_labels_ser=pd.Series(sentiment_test_labels)\n",
    "sentiment_test_labels_ser.describe()"
   ]
  },
  {
   "cell_type": "code",
   "execution_count": 83,
   "id": "917bdb63",
   "metadata": {},
   "outputs": [
    {
     "data": {
      "text/plain": [
       "count    2000.000000\n",
       "mean        0.873718\n",
       "std         0.227616\n",
       "min         0.000077\n",
       "25%         0.878616\n",
       "50%         0.979239\n",
       "75%         0.996452\n",
       "max         0.999974\n",
       "dtype: float64"
      ]
     },
     "execution_count": 83,
     "metadata": {},
     "output_type": "execute_result"
    }
   ],
   "source": [
    "prompt1_test_labels_ser=pd.Series(prompt1_test_labels)\n",
    "prompt1_test_labels_ser.describe()"
   ]
  },
  {
   "cell_type": "code",
   "execution_count": 84,
   "id": "4fe852b1",
   "metadata": {},
   "outputs": [
    {
     "data": {
      "text/plain": [
       "count    2000.000000\n",
       "mean        0.875879\n",
       "std         0.295769\n",
       "min         0.000016\n",
       "25%         0.991057\n",
       "50%         0.999695\n",
       "75%         0.999877\n",
       "max         0.999984\n",
       "dtype: float64"
      ]
     },
     "execution_count": 84,
     "metadata": {},
     "output_type": "execute_result"
    }
   ],
   "source": [
    "prompt2_test_labels_ser=pd.Series(prompt2_test_labels)\n",
    "prompt2_test_labels_ser.describe()"
   ]
  },
  {
   "cell_type": "code",
   "execution_count": 85,
   "id": "193d36fb",
   "metadata": {},
   "outputs": [
    {
     "data": {
      "text/plain": [
       "count    2000.000000\n",
       "mean        0.875879\n",
       "std         0.295769\n",
       "min         0.000016\n",
       "25%         0.991057\n",
       "50%         0.999695\n",
       "75%         0.999877\n",
       "max         0.999984\n",
       "dtype: float64"
      ]
     },
     "execution_count": 85,
     "metadata": {},
     "output_type": "execute_result"
    }
   ],
   "source": [
    "prompt2_test_labels_ser=pd.Series(prompt2_test_labels)\n",
    "prompt2_test_labels_ser.describe()\n",
    "#f1"
   ]
  },
  {
   "cell_type": "markdown",
   "id": "110cb00a",
   "metadata": {},
   "source": [
    "val"
   ]
  },
  {
   "cell_type": "code",
   "execution_count": 40,
   "id": "d7f60f31",
   "metadata": {},
   "outputs": [
    {
     "name": "stdout",
     "output_type": "stream",
     "text": [
      "total 286\n",
      "tp 138\n",
      "fp 123\n",
      "tn 20\n",
      "fn 5\n",
      "pos_precision 0.5287356321839081\n",
      "pos_recall 0.965034965034965\n",
      "pos_f1 0.6831683168316832\n",
      "neg_precision 0.8\n",
      "neg_recall 0.13986013986013987\n",
      "neg_f1 0.2380952380952381\n",
      "accuracy 0.5524475524475524\n"
     ]
    }
   ],
   "source": [
    "#using all the models\n",
    "common_pred=[]\n",
    "tp=0\n",
    "fp=0\n",
    "tn=0\n",
    "fn=0\n",
    "for i in range(len(sentiment_val_labels)):\n",
    "    cp=0\n",
    "    if sentiment_val_labels[i]==1:\n",
    "        cp+=1\n",
    "    if prompt1_val_labels[i]==1:\n",
    "        cp+=1\n",
    "    if prompt2_val_labels[i]==1:\n",
    "        cp+=1\n",
    "    if cp>=2:\n",
    "        pred=1\n",
    "    else:\n",
    "        pred=0\n",
    "    if pred==1 and val_labels[i]==1:\n",
    "          tp+=1\n",
    "    elif pred==1 and val_labels[i]==0:\n",
    "          fp+=1\n",
    "    elif pred==0 and val_labels[i]==0:\n",
    "          tn+=1\n",
    "    elif pred==0 and val_labels[i]==1:\n",
    "          fn+=1\n",
    "    common_pred.append(pred)\n",
    "# and prompt1_test_labels[i]>0.9999758 and  \n",
    "print(f\"total {tp+fp+tn+fn}\")\n",
    "print(f\"tp {tp}\")\n",
    "print(f\"fp {fp}\")\n",
    "print(f\"tn {tn}\")\n",
    "print(f\"fn {fn}\")\n",
    "print(f\"pos_precision {tp/(tp+fp)}\")\n",
    "print(f\"pos_recall {tp/(tp+fn)}\")\n",
    "print(f\"pos_f1 {(2*(tp/(tp+fp))*(tp/(tp+fn)))/((tp/(tp+fp))+(tp/(tp+fn)))}\")\n",
    "print(f\"neg_precision {tn/(tn+fn)}\")\n",
    "print(f\"neg_recall {tn/(tn+fp)}\")\n",
    "print(f\"neg_f1 {(2*(tn/(tn+fn))*(tn/(tn+fp)))/((tn/(tn+fn))+(tn/(tn+fp)))}\")\n",
    "print(f\"accuracy {(tp+tn)/(tp+tn+fp+fn)}\")"
   ]
  },
  {
   "cell_type": "code",
   "execution_count": null,
   "id": "40e94b7b",
   "metadata": {},
   "outputs": [],
   "source": []
  },
  {
   "cell_type": "code",
   "execution_count": 6,
   "id": "93b0b1d6",
   "metadata": {},
   "outputs": [
    {
     "name": "stdout",
     "output_type": "stream",
     "text": [
      "total 286\n",
      "tp 113\n",
      "fp 66\n",
      "tn 77\n",
      "fn 30\n",
      "pos_precision 0.6312849162011173\n",
      "pos_recall 0.7902097902097902\n",
      "pos_f1 0.701863354037267\n",
      "neg_precision 0.719626168224299\n",
      "neg_recall 0.5384615384615384\n",
      "neg_f1 0.616\n",
      "accuracy 0.6643356643356644\n"
     ]
    }
   ],
   "source": [
    "#using all the models\n",
    "common_pred=[]\n",
    "tp=0\n",
    "fp=0\n",
    "tn=0\n",
    "fn=0\n",
    "for i in range(len(sentiment_val_labels)):\n",
    "    cp=0\n",
    "    if sentiment_val_labels[i]>=0.996:\n",
    "        cp+=1\n",
    "    if prompt1_val_labels[i]>=0.98:\n",
    "        cp+=1\n",
    "    if prompt2_val_labels[i]>=0.99:\n",
    "        cp+=1\n",
    "    if cp>=2:\n",
    "        pred=1\n",
    "    else:\n",
    "        pred=0\n",
    "    if pred==1 and val_labels[i]==1:\n",
    "          tp+=1\n",
    "    elif pred==1 and val_labels[i]==0:\n",
    "          fp+=1\n",
    "    elif pred==0 and val_labels[i]==0:\n",
    "          tn+=1\n",
    "    elif pred==0 and val_labels[i]==1:\n",
    "          fn+=1\n",
    "    common_pred.append(pred)\n",
    "# and prompt1_test_labels[i]>0.9999758 and  \n",
    "print(f\"total {tp+fp+tn+fn}\")\n",
    "print(f\"tp {tp}\")\n",
    "print(f\"fp {fp}\")\n",
    "print(f\"tn {tn}\")\n",
    "print(f\"fn {fn}\")\n",
    "print(f\"pos_precision {tp/(tp+fp)}\")\n",
    "print(f\"pos_recall {tp/(tp+fn)}\")\n",
    "print(f\"pos_f1 {(2*(tp/(tp+fp))*(tp/(tp+fn)))/((tp/(tp+fp))+(tp/(tp+fn)))}\")\n",
    "print(f\"neg_precision {tn/(tn+fn)}\")\n",
    "print(f\"neg_recall {tn/(tn+fp)}\")\n",
    "print(f\"neg_f1 {(2*(tn/(tn+fn))*(tn/(tn+fp)))/((tn/(tn+fn))+(tn/(tn+fp)))}\")\n",
    "print(f\"accuracy {(tp+tn)/(tp+tn+fp+fn)}\")"
   ]
  },
  {
   "cell_type": "code",
   "execution_count": null,
   "id": "ed02d814",
   "metadata": {},
   "outputs": [],
   "source": []
  },
  {
   "cell_type": "code",
   "execution_count": 13,
   "id": "b3b74836",
   "metadata": {},
   "outputs": [
    {
     "name": "stdout",
     "output_type": "stream",
     "text": [
      "total 286\n",
      "tp 140\n",
      "fp 127\n",
      "tn 16\n",
      "fn 3\n",
      "pos_precision 0.5243445692883895\n",
      "pos_recall 0.9790209790209791\n",
      "pos_f1 0.6829268292682926\n",
      "neg_precision 0.8421052631578947\n",
      "neg_recall 0.11188811188811189\n",
      "neg_f1 0.19753086419753088\n"
     ]
    }
   ],
   "source": [
    "common_pred=0\n",
    "tp=0\n",
    "fp=0\n",
    "tn=0\n",
    "fn=0\n",
    "for i in range(len(prompt1_val_labels)):\n",
    "    if prompt1_val_labels[i]==1 and val_labels[i]==1:\n",
    "        tp+=1\n",
    "    elif prompt1_val_labels[i]==1  and val_labels[i]==0:\n",
    "        fp+=1\n",
    "    elif prompt1_val_labels[i]==0 and val_labels[i]==0:\n",
    "        tn+=1\n",
    "    elif prompt1_val_labels[i]==0  and val_labels[i]==1:\n",
    "        fn+=1\n",
    "# and prompt1_test_labels[i]>0.9999758 and  \n",
    "print(f\"total {tp+fp+tn+fn}\")\n",
    "print(f\"tp {tp}\")\n",
    "print(f\"fp {fp}\")\n",
    "print(f\"tn {tn}\")\n",
    "print(f\"fn {fn}\")\n",
    "print(f\"pos_precision {tp/(tp+fp)}\")\n",
    "print(f\"pos_recall {tp/(tp+fn)}\")\n",
    "print(f\"pos_f1 {(2*(tp/(tp+fp))*(tp/(tp+fn)))/((tp/(tp+fp))+(tp/(tp+fn)))}\")\n",
    "print(f\"neg_precision {tn/(tn+fn)}\")\n",
    "print(f\"neg_recall {tn/(tn+fp)}\")\n",
    "print(f\"neg_f1 {(2*(tn/(tn+fn))*(tn/(tn+fp)))/((tn/(tn+fn))+(tn/(tn+fp)))}\")"
   ]
  },
  {
   "cell_type": "code",
   "execution_count": 14,
   "id": "a78dab55",
   "metadata": {},
   "outputs": [
    {
     "name": "stdout",
     "output_type": "stream",
     "text": [
      "total 286\n",
      "tp 136\n",
      "fp 117\n",
      "tn 26\n",
      "fn 7\n",
      "pos_precision 0.5375494071146245\n",
      "pos_recall 0.951048951048951\n",
      "pos_f1 0.686868686868687\n",
      "neg_precision 0.7878787878787878\n",
      "neg_recall 0.18181818181818182\n",
      "neg_f1 0.29545454545454547\n"
     ]
    }
   ],
   "source": [
    "common_pred=0\n",
    "tp=0\n",
    "fp=0\n",
    "tn=0\n",
    "fn=0\n",
    "for i in range(len(prompt2_val_labels)):\n",
    "    if prompt2_val_labels[i]==1 and val_labels[i]==1:\n",
    "        tp+=1\n",
    "    elif prompt2_val_labels[i]==1  and val_labels[i]==0:\n",
    "        fp+=1\n",
    "    elif prompt2_val_labels[i]==0 and val_labels[i]==0:\n",
    "        tn+=1\n",
    "    elif prompt2_val_labels[i]==0  and val_labels[i]==1:\n",
    "        fn+=1\n",
    "# and prompt1_test_labels[i]>0.9999758 and  \n",
    "print(f\"total {tp+fp+tn+fn}\")\n",
    "print(f\"tp {tp}\")\n",
    "print(f\"fp {fp}\")\n",
    "print(f\"tn {tn}\")\n",
    "print(f\"fn {fn}\")\n",
    "print(f\"pos_precision {tp/(tp+fp)}\")\n",
    "print(f\"pos_recall {tp/(tp+fn)}\")\n",
    "print(f\"pos_f1 {(2*(tp/(tp+fp))*(tp/(tp+fn)))/((tp/(tp+fp))+(tp/(tp+fn)))}\")\n",
    "print(f\"neg_precision {tn/(tn+fn)}\")\n",
    "print(f\"neg_recall {tn/(tn+fp)}\")\n",
    "print(f\"neg_f1 {(2*(tn/(tn+fn))*(tn/(tn+fp)))/((tn/(tn+fn))+(tn/(tn+fp)))}\")"
   ]
  },
  {
   "cell_type": "code",
   "execution_count": 15,
   "id": "08c22f18",
   "metadata": {},
   "outputs": [
    {
     "name": "stdout",
     "output_type": "stream",
     "text": [
      "total 286\n",
      "tp 126\n",
      "fp 95\n",
      "tn 48\n",
      "fn 17\n",
      "pos_precision 0.5701357466063348\n",
      "pos_recall 0.8811188811188811\n",
      "pos_f1 0.6923076923076924\n",
      "neg_precision 0.7384615384615385\n",
      "neg_recall 0.3356643356643357\n",
      "neg_f1 0.4615384615384616\n"
     ]
    }
   ],
   "source": [
    "common_pred=0\n",
    "tp=0\n",
    "fp=0\n",
    "tn=0\n",
    "fn=0\n",
    "for i in range(len(sentiment_val_labels)):\n",
    "    if sentiment_val_labels[i]==1 and val_labels[i]==1:\n",
    "        tp+=1\n",
    "    elif sentiment_val_labels[i]==1  and val_labels[i]==0:\n",
    "        fp+=1\n",
    "    elif sentiment_val_labels[i]==0 and val_labels[i]==0:\n",
    "        tn+=1\n",
    "    elif sentiment_val_labels[i]==0  and val_labels[i]==1:\n",
    "        fn+=1\n",
    "# and prompt1_test_labels[i]>0.9999758 and  \n",
    "print(f\"total {tp+fp+tn+fn}\")\n",
    "print(f\"tp {tp}\")\n",
    "print(f\"fp {fp}\")\n",
    "print(f\"tn {tn}\")\n",
    "print(f\"fn {fn}\")\n",
    "print(f\"pos_precision {tp/(tp+fp)}\")\n",
    "print(f\"pos_recall {tp/(tp+fn)}\")\n",
    "print(f\"pos_f1 {(2*(tp/(tp+fp))*(tp/(tp+fn)))/((tp/(tp+fp))+(tp/(tp+fn)))}\")\n",
    "print(f\"neg_precision {tn/(tn+fn)}\")\n",
    "print(f\"neg_recall {tn/(tn+fp)}\")\n",
    "print(f\"neg_f1 {(2*(tn/(tn+fn))*(tn/(tn+fp)))/((tn/(tn+fn))+(tn/(tn+fp)))}\")"
   ]
  },
  {
   "cell_type": "code",
   "execution_count": 23,
   "id": "661739db",
   "metadata": {},
   "outputs": [
    {
     "name": "stdout",
     "output_type": "stream",
     "text": [
      "total 286\n",
      "tp 110\n",
      "fp 61\n",
      "tn 82\n",
      "fn 33\n",
      "pos_precision 0.6432748538011696\n",
      "pos_recall 0.7692307692307693\n",
      "pos_f1 0.7006369426751592\n",
      "neg_precision 0.7130434782608696\n",
      "neg_recall 0.5734265734265734\n",
      "neg_f1 0.6356589147286822\n"
     ]
    }
   ],
   "source": [
    "common_pred=0\n",
    "tp=0\n",
    "fp=0\n",
    "tn=0\n",
    "fn=0\n",
    "for i in range(len(sentiment_val_labels)):\n",
    "    if sentiment_val_labels[i]>=0.996 and val_labels[i]==1:\n",
    "        tp+=1\n",
    "    elif sentiment_val_labels[i]>=0.996  and val_labels[i]==0:\n",
    "        fp+=1\n",
    "    elif sentiment_val_labels[i]<0.996 and val_labels[i]==0:\n",
    "        tn+=1\n",
    "    elif sentiment_val_labels[i]<0.996  and val_labels[i]==1:\n",
    "        fn+=1\n",
    "# and prompt1_test_labels[i]>0.9999758 and  \n",
    "print(f\"total {tp+fp+tn+fn}\")\n",
    "print(f\"tp {tp}\")\n",
    "print(f\"fp {fp}\")\n",
    "print(f\"tn {tn}\")\n",
    "print(f\"fn {fn}\")\n",
    "print(f\"pos_precision {tp/(tp+fp)}\")\n",
    "print(f\"pos_recall {tp/(tp+fn)}\")\n",
    "print(f\"pos_f1 {(2*(tp/(tp+fp))*(tp/(tp+fn)))/((tp/(tp+fp))+(tp/(tp+fn)))}\")\n",
    "print(f\"neg_precision {tn/(tn+fn)}\")\n",
    "print(f\"neg_recall {tn/(tn+fp)}\")\n",
    "print(f\"neg_f1 {(2*(tn/(tn+fn))*(tn/(tn+fp)))/((tn/(tn+fn))+(tn/(tn+fp)))}\")"
   ]
  },
  {
   "cell_type": "code",
   "execution_count": 26,
   "id": "3aa9884d",
   "metadata": {},
   "outputs": [
    {
     "name": "stdout",
     "output_type": "stream",
     "text": [
      "total 286\n",
      "tp 75\n",
      "fp 58\n",
      "tn 85\n",
      "fn 68\n",
      "pos_precision 0.5639097744360902\n",
      "pos_recall 0.5244755244755245\n",
      "pos_f1 0.5434782608695653\n",
      "neg_precision 0.5555555555555556\n",
      "neg_recall 0.5944055944055944\n",
      "neg_f1 0.5743243243243243\n"
     ]
    }
   ],
   "source": [
    "common_pred=0\n",
    "tp=0\n",
    "fp=0\n",
    "tn=0\n",
    "fn=0\n",
    "for i in range(len(sentiment_val_labels)):\n",
    "    if prompt1_val_labels[i]>=0.98 and val_labels[i]==1:\n",
    "        tp+=1\n",
    "    elif prompt1_val_labels[i]>=0.98  and val_labels[i]==0:\n",
    "        fp+=1\n",
    "    elif prompt1_val_labels[i]<0.98 and val_labels[i]==0:\n",
    "        tn+=1\n",
    "    elif prompt1_val_labels[i]<0.98  and val_labels[i]==1:\n",
    "        fn+=1\n",
    "# and prompt1_test_labels[i]>0.9999758 and  \n",
    "print(f\"total {tp+fp+tn+fn}\")\n",
    "print(f\"tp {tp}\")\n",
    "print(f\"fp {fp}\")\n",
    "print(f\"tn {tn}\")\n",
    "print(f\"fn {fn}\")\n",
    "print(f\"pos_precision {tp/(tp+fp)}\")\n",
    "print(f\"pos_recall {tp/(tp+fn)}\")\n",
    "print(f\"pos_f1 {(2*(tp/(tp+fp))*(tp/(tp+fn)))/((tp/(tp+fp))+(tp/(tp+fn)))}\")\n",
    "print(f\"neg_precision {tn/(tn+fn)}\")\n",
    "print(f\"neg_recall {tn/(tn+fp)}\")\n",
    "print(f\"neg_f1 {(2*(tn/(tn+fn))*(tn/(tn+fp)))/((tn/(tn+fn))+(tn/(tn+fp)))}\")"
   ]
  },
  {
   "cell_type": "code",
   "execution_count": 33,
   "id": "630a9966",
   "metadata": {},
   "outputs": [
    {
     "name": "stdout",
     "output_type": "stream",
     "text": [
      "total 286\n",
      "tp 127\n",
      "fp 90\n",
      "tn 53\n",
      "fn 16\n",
      "pos_precision 0.5852534562211982\n",
      "pos_recall 0.8881118881118881\n",
      "pos_f1 0.7055555555555556\n",
      "neg_precision 0.7681159420289855\n",
      "neg_recall 0.3706293706293706\n",
      "neg_f1 0.4999999999999999\n"
     ]
    }
   ],
   "source": [
    "common_pred=0\n",
    "tp=0\n",
    "fp=0\n",
    "tn=0\n",
    "fn=0\n",
    "for i in range(len(sentiment_val_labels)):\n",
    "    if prompt2_val_labels[i]>=0.99 and val_labels[i]==1:\n",
    "        tp+=1\n",
    "    elif prompt2_val_labels[i]>=0.99  and val_labels[i]==0:\n",
    "        fp+=1\n",
    "    elif prompt2_val_labels[i]<0.99 and val_labels[i]==0:\n",
    "        tn+=1\n",
    "    elif prompt2_val_labels[i]<0.99  and val_labels[i]==1:\n",
    "        fn+=1\n",
    "# and prompt1_test_labels[i]>0.9999758 and  \n",
    "print(f\"total {tp+fp+tn+fn}\")\n",
    "print(f\"tp {tp}\")\n",
    "print(f\"fp {fp}\")\n",
    "print(f\"tn {tn}\")\n",
    "print(f\"fn {fn}\")\n",
    "print(f\"pos_precision {tp/(tp+fp)}\")\n",
    "print(f\"pos_recall {tp/(tp+fn)}\")\n",
    "print(f\"pos_f1 {(2*(tp/(tp+fp))*(tp/(tp+fn)))/((tp/(tp+fp))+(tp/(tp+fn)))}\")\n",
    "print(f\"neg_precision {tn/(tn+fn)}\")\n",
    "print(f\"neg_recall {tn/(tn+fp)}\")\n",
    "print(f\"neg_f1 {(2*(tn/(tn+fn))*(tn/(tn+fp)))/((tn/(tn+fn))+(tn/(tn+fp)))}\")"
   ]
  },
  {
   "cell_type": "markdown",
   "id": "bcdfe547",
   "metadata": {},
   "source": [
    "eval"
   ]
  },
  {
   "cell_type": "code",
   "execution_count": 11,
   "id": "9b8648fe",
   "metadata": {},
   "outputs": [
    {
     "name": "stdout",
     "output_type": "stream",
     "text": [
      "total 2000\n",
      "tp 928\n",
      "fp 375\n",
      "tn 542\n",
      "fn 155\n",
      "pos_precision 0.7122026093630084\n",
      "pos_recall 0.8568790397045245\n",
      "pos_f1 0.7778709136630344\n",
      "neg_precision 0.7776183644189383\n",
      "neg_recall 0.5910577971646674\n",
      "neg_f1 0.671623296158612\n",
      "accuracy 0.735\n"
     ]
    }
   ],
   "source": [
    "#using all the models\n",
    "common_pred=0\n",
    "tp=0\n",
    "fp=0\n",
    "tn=0\n",
    "fn=0\n",
    "for i in range(len(sentiment_test_labels)):\n",
    "    cp=0\n",
    "    if sentiment_test_labels[i]>=0.996: #0.996\n",
    "        cp+=1\n",
    "    if prompt1_test_labels[i]>=0.98: #0.979\n",
    "        cp+=1\n",
    "    if prompt2_test_labels[i]>=0.99: #0.999\n",
    "        cp+=1\n",
    "    if cp>=2:\n",
    "        pred=1\n",
    "    else:\n",
    "        pred=0\n",
    "    if pred==1 and test_labels[i]==1:\n",
    "          tp+=1\n",
    "    elif pred==1 and test_labels[i]==0:\n",
    "          fp+=1\n",
    "    elif pred==0 and test_labels[i]==0:\n",
    "          tn+=1\n",
    "    elif pred==0 and test_labels[i]==1:\n",
    "          fn+=1\n",
    "# and prompt1_test_labels[i]>0.9999758 and  \n",
    "print(f\"total {tp+fp+tn+fn}\")\n",
    "print(f\"tp {tp}\")\n",
    "print(f\"fp {fp}\")\n",
    "print(f\"tn {tn}\")\n",
    "print(f\"fn {fn}\")\n",
    "print(f\"pos_precision {tp/(tp+fp)}\")\n",
    "print(f\"pos_recall {tp/(tp+fn)}\")\n",
    "print(f\"pos_f1 {(2*(tp/(tp+fp))*(tp/(tp+fn)))/((tp/(tp+fp))+(tp/(tp+fn)))}\")\n",
    "print(f\"neg_precision {tn/(tn+fn)}\")\n",
    "print(f\"neg_recall {tn/(tn+fp)}\")\n",
    "print(f\"neg_f1 {(2*(tn/(tn+fn))*(tn/(tn+fp)))/((tn/(tn+fn))+(tn/(tn+fp)))}\")\n",
    "print(f\"accuracy {(tp+tn)/(tp+tn+fp+fn)}\")"
   ]
  },
  {
   "cell_type": "code",
   "execution_count": null,
   "id": "ee722df4",
   "metadata": {},
   "outputs": [],
   "source": []
  },
  {
   "cell_type": "code",
   "execution_count": null,
   "id": "136c655c",
   "metadata": {},
   "outputs": [],
   "source": []
  },
  {
   "cell_type": "code",
   "execution_count": null,
   "id": "02d0f8ad",
   "metadata": {},
   "outputs": [],
   "source": []
  },
  {
   "cell_type": "code",
   "execution_count": null,
   "id": "7aa91755",
   "metadata": {},
   "outputs": [],
   "source": []
  },
  {
   "cell_type": "code",
   "execution_count": 86,
   "id": "70c54b4f",
   "metadata": {},
   "outputs": [
    {
     "name": "stdout",
     "output_type": "stream",
     "text": [
      "total: 2000\n",
      "tp 1061\n",
      "fp 789\n",
      "tn 128\n",
      "fn 22\n",
      "accuracy 0.5945\n"
     ]
    }
   ],
   "source": [
    "#using all the models\n",
    "common_pred=0\n",
    "pos_ind=[]\n",
    "pos=0\n",
    "neg=0\n",
    "tp=0\n",
    "fp=0\n",
    "tn=0\n",
    "fn=0\n",
    "for i in range(len(sentiment_test_labels)):\n",
    "#     if sentiment_test_labels[i]==prompt1_test_labels[i] and prompt1_test_labels[i]==prompt2_test_labels[i]:\n",
    "#         common_pred+=1\n",
    "        if prompt2_test_labels[i]==1 and test_labels[i]==1:\n",
    "#             pos_ind.append(i)\n",
    "#             pos+=1\n",
    "              tp+=1\n",
    "        elif prompt2_test_labels[i]==1 and test_labels[i]==0:\n",
    "              fp+=1\n",
    "        elif prompt2_test_labels[i]==0 and test_labels[i]==0:\n",
    "              tn+=1\n",
    "        elif prompt2_test_labels[i]==0 and test_labels[i]==1:\n",
    "              fn+=1\n",
    "print(f\"total: {tp+fp+tn+fn}\")\n",
    "# print(f\"pos: {pos}; len_pos_ind:{len(pos_ind)}\")\n",
    "# print(f\"neg: {neg}\")\n",
    "print(f\"tp {tp}\")\n",
    "print(f\"fp {fp}\")\n",
    "print(f\"tn {tn}\")\n",
    "print(f\"fn {fn}\")\n",
    "print(f\"accuracy {(tp+tn)/(tp+tn+fp+fn)}\") #senti 66.95 prompt1 59.95 pro2 59.4"
   ]
  },
  {
   "cell_type": "code",
   "execution_count": 14,
   "id": "674c6544",
   "metadata": {},
   "outputs": [
    {
     "name": "stdout",
     "output_type": "stream",
     "text": [
      "pos_precision 0.6773276474769012\n",
      "pos_recall 0.9865424430641822\n",
      "pos_f1 0.8032026970080068\n"
     ]
    }
   ],
   "source": [
    "print(f\"pos_precision {tp/(tp+fp)}\")\n",
    "print(f\"pos_recall {tp/(tp+fn)}\")\n",
    "print(f\"pos_f1 {(2*(tp/(tp+fp))*(tp/(tp+fn)))/((tp/(tp+fp))+(tp/(tp+fn)))}\")"
   ]
  },
  {
   "cell_type": "code",
   "execution_count": 15,
   "id": "6db5d9fe",
   "metadata": {},
   "outputs": [
    {
     "name": "stdout",
     "output_type": "stream",
     "text": [
      "neg_precision 0.803030303030303\n",
      "neg_recall 0.10453648915187377\n",
      "neg_f1 0.18499127399650964\n"
     ]
    }
   ],
   "source": [
    "print(f\"neg_precision {tn/(tn+fn)}\")\n",
    "print(f\"neg_recall {tn/(tn+fp)}\")\n",
    "print(f\"neg_f1 {(2*(tn/(tn+fn))*(tn/(tn+fp)))/((tn/(tn+fn))+(tn/(tn+fp)))}\")"
   ]
  },
  {
   "cell_type": "code",
   "execution_count": 24,
   "id": "21fea47b",
   "metadata": {},
   "outputs": [
    {
     "name": "stdout",
     "output_type": "stream",
     "text": [
      "total: 2000\n",
      "tp 965\n",
      "fp 543\n",
      "tn 374\n",
      "fn 118\n",
      "accuracy 0.6695\n"
     ]
    }
   ],
   "source": [
    "#using all the models\n",
    "common_pred=0\n",
    "pos_ind=[]\n",
    "pos=0\n",
    "neg=0\n",
    "tp=0\n",
    "fp=0\n",
    "tn=0\n",
    "fn=0\n",
    "for i in range(len(sentiment_test_labels)):\n",
    "#     if sentiment_test_labels[i]==prompt1_test_labels[i] and prompt1_test_labels[i]==prompt2_test_labels[i]:\n",
    "#         common_pred+=1\n",
    "        if prompt2_test_labels[i]>=0.99 and test_labels[i]==1:\n",
    "#             pos_ind.append(i)\n",
    "#             pos+=1\n",
    "              tp+=1\n",
    "        elif prompt2_test_labels[i]>=0.99 and test_labels[i]==0:\n",
    "              fp+=1\n",
    "        elif prompt2_test_labels[i]<0.99 and test_labels[i]==0:\n",
    "              tn+=1\n",
    "        elif prompt2_test_labels[i]<0.99 and test_labels[i]==1:\n",
    "              fn+=1\n",
    "print(f\"total: {tp+fp+tn+fn}\")\n",
    "# print(f\"pos: {pos}; len_pos_ind:{len(pos_ind)}\")\n",
    "# print(f\"neg: {neg}\")\n",
    "print(f\"tp {tp}\")\n",
    "print(f\"fp {fp}\")\n",
    "print(f\"tn {tn}\")\n",
    "print(f\"fn {fn}\")\n",
    "print(f\"accuracy {(tp+tn)/(tp+tn+fp+fn)}\") #senti 66.95 prompt1 59.95 pro2 59.4"
   ]
  },
  {
   "cell_type": "code",
   "execution_count": 25,
   "id": "e3464446",
   "metadata": {},
   "outputs": [
    {
     "name": "stdout",
     "output_type": "stream",
     "text": [
      "pos_precision 0.639920424403183\n",
      "pos_recall 0.8910433979686058\n",
      "pos_f1 0.7448861443458125\n"
     ]
    }
   ],
   "source": [
    "print(f\"pos_precision {tp/(tp+fp)}\")\n",
    "print(f\"pos_recall {tp/(tp+fn)}\")\n",
    "print(f\"pos_f1 {(2*(tp/(tp+fp))*(tp/(tp+fn)))/((tp/(tp+fp))+(tp/(tp+fn)))}\")"
   ]
  },
  {
   "cell_type": "code",
   "execution_count": 29,
   "id": "d2a4880a",
   "metadata": {},
   "outputs": [
    {
     "name": "stdout",
     "output_type": "stream",
     "text": [
      "total: 2000\n",
      "tp 691\n",
      "fp 296\n",
      "tn 621\n",
      "fn 392\n",
      "accuracy 0.656\n"
     ]
    }
   ],
   "source": [
    "#using all the models\n",
    "common_pred=0\n",
    "pos_ind=[]\n",
    "pos=0\n",
    "neg=0\n",
    "tp=0\n",
    "fp=0\n",
    "tn=0\n",
    "fn=0\n",
    "for i in range(len(sentiment_test_labels)):\n",
    "#     if sentiment_test_labels[i]==prompt1_test_labels[i] and prompt1_test_labels[i]==prompt2_test_labels[i]:\n",
    "#         common_pred+=1\n",
    "        if prompt1_test_labels[i]>=0.98 and test_labels[i]==1:\n",
    "#             pos_ind.append(i)\n",
    "#             pos+=1\n",
    "              tp+=1\n",
    "        elif prompt1_test_labels[i]>=0.98 and test_labels[i]==0:\n",
    "              fp+=1\n",
    "        elif prompt1_test_labels[i]<0.98 and test_labels[i]==0:\n",
    "              tn+=1\n",
    "        elif prompt1_test_labels[i]<0.98 and test_labels[i]==1:\n",
    "              fn+=1\n",
    "print(f\"total: {tp+fp+tn+fn}\")\n",
    "# print(f\"pos: {pos}; len_pos_ind:{len(pos_ind)}\")\n",
    "# print(f\"neg: {neg}\")\n",
    "print(f\"tp {tp}\")\n",
    "print(f\"fp {fp}\")\n",
    "print(f\"tn {tn}\")\n",
    "print(f\"fn {fn}\")\n",
    "print(f\"accuracy {(tp+tn)/(tp+tn+fp+fn)}\") #senti 66.95 prompt1 59.95 pro2 59.4"
   ]
  },
  {
   "cell_type": "code",
   "execution_count": 30,
   "id": "0a41a65d",
   "metadata": {},
   "outputs": [
    {
     "name": "stdout",
     "output_type": "stream",
     "text": [
      "pos_precision 0.7001013171225937\n",
      "pos_recall 0.6380424746075716\n",
      "pos_f1 0.6676328502415458\n"
     ]
    }
   ],
   "source": [
    "print(f\"pos_precision {tp/(tp+fp)}\")\n",
    "print(f\"pos_recall {tp/(tp+fn)}\")\n",
    "print(f\"pos_f1 {(2*(tp/(tp+fp))*(tp/(tp+fn)))/((tp/(tp+fp))+(tp/(tp+fn)))}\")"
   ]
  },
  {
   "cell_type": "code",
   "execution_count": 31,
   "id": "0efdae03",
   "metadata": {},
   "outputs": [
    {
     "name": "stdout",
     "output_type": "stream",
     "text": [
      "total: 2000\n",
      "tp 930\n",
      "fp 380\n",
      "tn 537\n",
      "fn 153\n",
      "accuracy 0.7335\n"
     ]
    }
   ],
   "source": [
    "#using all the models\n",
    "common_pred=0\n",
    "pos_ind=[]\n",
    "pos=0\n",
    "neg=0\n",
    "tp=0\n",
    "fp=0\n",
    "tn=0\n",
    "fn=0\n",
    "for i in range(len(sentiment_test_labels)):\n",
    "#     if sentiment_test_labels[i]==prompt1_test_labels[i] and prompt1_test_labels[i]==prompt2_test_labels[i]:\n",
    "#         common_pred+=1\n",
    "        if sentiment_test_labels[i]>=0.996 and test_labels[i]==1:\n",
    "#             pos_ind.append(i)\n",
    "#             pos+=1\n",
    "              tp+=1\n",
    "        elif sentiment_test_labels[i]>=0.996 and test_labels[i]==0:\n",
    "              fp+=1\n",
    "        elif sentiment_test_labels[i]<0.996 and test_labels[i]==0:\n",
    "              tn+=1\n",
    "        elif sentiment_test_labels[i]<0.996 and test_labels[i]==1:\n",
    "              fn+=1\n",
    "print(f\"total: {tp+fp+tn+fn}\")\n",
    "# print(f\"pos: {pos}; len_pos_ind:{len(pos_ind)}\")\n",
    "# print(f\"neg: {neg}\")\n",
    "print(f\"tp {tp}\")\n",
    "print(f\"fp {fp}\")\n",
    "print(f\"tn {tn}\")\n",
    "print(f\"fn {fn}\")\n",
    "print(f\"accuracy {(tp+tn)/(tp+tn+fp+fn)}\") #senti 66.95 prompt1 59.95 pro2 59.4"
   ]
  },
  {
   "cell_type": "code",
   "execution_count": 32,
   "id": "b333717f",
   "metadata": {},
   "outputs": [
    {
     "name": "stdout",
     "output_type": "stream",
     "text": [
      "pos_precision 0.7099236641221374\n",
      "pos_recall 0.8587257617728532\n",
      "pos_f1 0.7772670288340994\n"
     ]
    }
   ],
   "source": [
    "print(f\"pos_precision {tp/(tp+fp)}\")\n",
    "print(f\"pos_recall {tp/(tp+fn)}\")\n",
    "print(f\"pos_f1 {(2*(tp/(tp+fp))*(tp/(tp+fn)))/((tp/(tp+fp))+(tp/(tp+fn)))}\")"
   ]
  },
  {
   "cell_type": "code",
   "execution_count": null,
   "id": "04441d08",
   "metadata": {},
   "outputs": [],
   "source": []
  },
  {
   "cell_type": "code",
   "execution_count": null,
   "id": "bf204869",
   "metadata": {},
   "outputs": [],
   "source": []
  },
  {
   "cell_type": "code",
   "execution_count": 32,
   "id": "01531191",
   "metadata": {},
   "outputs": [
    {
     "name": "stdout",
     "output_type": "stream",
     "text": [
      "tp 0\n",
      "fp 0\n",
      "tn 917\n",
      "fn 1083\n"
     ]
    }
   ],
   "source": [
    "#using all the models\n",
    "common_pred=0\n",
    "pos_ind=[]\n",
    "pos=0\n",
    "neg=0\n",
    "tp=0\n",
    "fp=0\n",
    "tn=0\n",
    "fn=0\n",
    "pred=0\n",
    "for i in range(len(sentiment_test_labels)):\n",
    "    cp=0\n",
    "    if sentiment_test_labels[i]==1:\n",
    "        cp+=1\n",
    "    if prompt1_test_labels[i]==1:\n",
    "        cp+=1\n",
    "    if prompt2_test_labels[i]==1:\n",
    "        cp+=1\n",
    "    if cp>=2:\n",
    "        pred=1\n",
    "    else:\n",
    "        pred=0\n",
    "    if pred==1 and test_labels[i]==1:\n",
    "#             pos_ind.append(i)\n",
    "#             pos+=1\n",
    "          tp+=1\n",
    "    elif pred==1 and test_labels[i]==0:\n",
    "          fp+=1\n",
    "    elif pred==0 and test_labels[i]==0:\n",
    "          tn+=1\n",
    "    elif pred==0 and test_labels[i]==1:\n",
    "          fn+=1\n",
    "# print(f\"common_pred: {common_pred}\")\n",
    "# print(f\"pos: {pos}; len_pos_ind:{len(pos_ind)}\")\n",
    "# print(f\"neg: {neg}\")\n",
    "print(f\"tp {tp}\")\n",
    "print(f\"fp {fp}\")\n",
    "print(f\"tn {tn}\")\n",
    "print(f\"fn {fn}\")"
   ]
  },
  {
   "cell_type": "code",
   "execution_count": 17,
   "id": "ed2fb36d",
   "metadata": {},
   "outputs": [
    {
     "name": "stdout",
     "output_type": "stream",
     "text": [
      "pos_precision 0.6044340723453909\n",
      "pos_recall 0.9566020313942751\n",
      "pos_f1 0.740793707543797\n"
     ]
    }
   ],
   "source": [
    "print(f\"pos_precision {tp/(tp+fp)}\")\n",
    "print(f\"pos_recall {tp/(tp+fn)}\")\n",
    "print(f\"pos_f1 {(2*(tp/(tp+fp))*(tp/(tp+fn)))/((tp/(tp+fp))+(tp/(tp+fn)))}\")"
   ]
  },
  {
   "cell_type": "code",
   "execution_count": 18,
   "id": "f07e1358",
   "metadata": {},
   "outputs": [
    {
     "name": "stdout",
     "output_type": "stream",
     "text": [
      "neg_precision 0.8356643356643356\n",
      "neg_recall 0.2606324972737186\n",
      "neg_f1 0.39733998337489607\n"
     ]
    }
   ],
   "source": [
    "print(f\"neg_precision {tn/(tn+fn)}\")\n",
    "print(f\"neg_recall {tn/(tn+fp)}\")\n",
    "print(f\"neg_f1 {(2*(tn/(tn+fn))*(tn/(tn+fp)))/((tn/(tn+fn))+(tn/(tn+fp)))}\")"
   ]
  },
  {
   "cell_type": "code",
   "execution_count": 19,
   "id": "b3ec7a3d",
   "metadata": {},
   "outputs": [
    {
     "name": "stdout",
     "output_type": "stream",
     "text": [
      "tp 966\n",
      "fp 507\n",
      "tn 410\n",
      "fn 117\n"
     ]
    }
   ],
   "source": [
    "#using all the models\n",
    "common_pred=0\n",
    "pos_ind=[]\n",
    "pos=0\n",
    "neg=0\n",
    "tp=0\n",
    "fp=0\n",
    "tn=0\n",
    "fn=0\n",
    "for i in range(len(sentiment_test_labels)):\n",
    "    if sentiment_test_labels[i]==prompt1_test_labels[i] and prompt1_test_labels[i]==prompt2_test_labels[i] and test_labels[i]==1:\n",
    "        tp+=1\n",
    "    elif sentiment_test_labels[i]==prompt1_test_labels[i] and prompt1_test_labels[i]==prompt2_test_labels[i] and test_labels[i]==0:\n",
    "        fp+=1\n",
    "    elif test_labels[i]==0:\n",
    "        tn+=1\n",
    "    elif test_labels[i]==1:\n",
    "        fn+=1\n",
    "# print(f\"common_pred: {common_pred}\")\n",
    "# print(f\"pos: {pos}; len_pos_ind:{len(pos_ind)}\")\n",
    "# print(f\"neg: {neg}\")\n",
    "print(f\"tp {tp}\")\n",
    "print(f\"fp {fp}\")\n",
    "print(f\"tn {tn}\")\n",
    "print(f\"fn {fn}\")"
   ]
  },
  {
   "cell_type": "code",
   "execution_count": 20,
   "id": "25782048",
   "metadata": {},
   "outputs": [
    {
     "name": "stdout",
     "output_type": "stream",
     "text": [
      "pos_precision 0.6558044806517311\n",
      "pos_recall 0.8919667590027701\n",
      "pos_f1 0.755868544600939\n"
     ]
    }
   ],
   "source": [
    "print(f\"pos_precision {tp/(tp+fp)}\")\n",
    "print(f\"pos_recall {tp/(tp+fn)}\")\n",
    "print(f\"pos_f1 {(2*(tp/(tp+fp))*(tp/(tp+fn)))/((tp/(tp+fp))+(tp/(tp+fn)))}\")"
   ]
  },
  {
   "cell_type": "code",
   "execution_count": 21,
   "id": "cda2a267",
   "metadata": {},
   "outputs": [
    {
     "name": "stdout",
     "output_type": "stream",
     "text": [
      "neg_precision 0.777988614800759\n",
      "neg_recall 0.44711014176663033\n",
      "neg_f1 0.5678670360110804\n"
     ]
    }
   ],
   "source": [
    "print(f\"neg_precision {tn/(tn+fn)}\")\n",
    "print(f\"neg_recall {tn/(tn+fp)}\")\n",
    "print(f\"neg_f1 {(2*(tn/(tn+fn))*(tn/(tn+fp)))/((tn/(tn+fn))+(tn/(tn+fp)))}\")"
   ]
  },
  {
   "cell_type": "code",
   "execution_count": 24,
   "id": "68178d88",
   "metadata": {},
   "outputs": [
    {
     "name": "stdout",
     "output_type": "stream",
     "text": [
      "tp 953\n",
      "fp 454\n",
      "tn 53\n",
      "fn 13\n"
     ]
    }
   ],
   "source": [
    "#using all the models\n",
    "common_pred=0\n",
    "pos_ind=[]\n",
    "pos=0\n",
    "neg=0\n",
    "tp=0\n",
    "fp=0\n",
    "tn=0\n",
    "fn=0\n",
    "for i in range(len(sentiment_test_labels)):\n",
    "    if sentiment_test_labels[i]>0.99616 and prompt1_test_labels[i]>0.9999758 and prompt2_test_labels[i]>0.99999 and test_labels[i]==1:\n",
    "        tp+=1\n",
    "    elif sentiment_test_labels[i]>0.99616 and prompt1_test_labels[i]>0.9999758 and  prompt2_test_labels[i]>0.99999 and test_labels[i]==0:\n",
    "        fp+=1\n",
    "    elif sentiment_test_labels[i]<=0.99616 and prompt1_test_labels[i]<=0.9999758 and prompt2_test_labels[i]<=0.99999 and test_labels[i]==0:\n",
    "        tn+=1\n",
    "    elif sentiment_test_labels[i]<=0.99616 and prompt1_test_labels[i]<=0.9999758 and prompt2_test_labels[i]<=0.99999 and test_labels[i]==1:\n",
    "        fn+=1\n",
    "# print(f\"common_pred: {common_pred}\")\n",
    "# print(f\"pos: {pos}; len_pos_ind:{len(pos_ind)}\")\n",
    "# print(f\"neg: {neg}\")\n",
    "print(f\"tp {tp}\")\n",
    "print(f\"fp {fp}\")\n",
    "print(f\"tn {tn}\")\n",
    "print(f\"fn {fn}\")"
   ]
  },
  {
   "cell_type": "code",
   "execution_count": 25,
   "id": "04adfe60",
   "metadata": {},
   "outputs": [
    {
     "name": "stdout",
     "output_type": "stream",
     "text": [
      "pos_precision 0.6773276474769012\n",
      "pos_recall 0.9865424430641822\n",
      "pos_f1 0.8032026970080068\n"
     ]
    }
   ],
   "source": [
    "print(f\"pos_precision {tp/(tp+fp)}\")\n",
    "print(f\"pos_recall {tp/(tp+fn)}\")\n",
    "print(f\"pos_f1 {(2*(tp/(tp+fp))*(tp/(tp+fn)))/((tp/(tp+fp))+(tp/(tp+fn)))}\")"
   ]
  },
  {
   "cell_type": "markdown",
   "id": "060c1c2d",
   "metadata": {},
   "source": [
    "# Complementary"
   ]
  },
  {
   "cell_type": "code",
   "execution_count": null,
   "id": "09f7dc9c",
   "metadata": {},
   "outputs": [],
   "source": [
    "#using all the models\n",
    "cp=[]\n",
    "for i in range(len(sentiment_test_labels)):\n",
    "    if prompt2_test_labels[i]==prompt1_test_labels[i] and sentiment_test_labels[i]!=prompt1_test_labels[i]:\n",
    "        cp.append(1)\n",
    "    else:\n",
    "        cp.append(0)\n",
    "# print(cp)\n",
    "test_df[\"is_complementary\"]=cp\n",
    "# test_df.to_excel(\"complementary.xlsx\")"
   ]
  },
  {
   "cell_type": "code",
   "execution_count": 7,
   "id": "5019eefe",
   "metadata": {},
   "outputs": [
    {
     "ename": "NameError",
     "evalue": "name 'sentiment_test_labels' is not defined",
     "output_type": "error",
     "traceback": [
      "\u001b[0;31m---------------------------------------------------------------------------\u001b[0m",
      "\u001b[0;31mNameError\u001b[0m                                 Traceback (most recent call last)",
      "\u001b[0;32m<ipython-input-7-ad5c7a30e538>\u001b[0m in \u001b[0;36m<module>\u001b[0;34m\u001b[0m\n\u001b[1;32m      5\u001b[0m \u001b[0mtn\u001b[0m\u001b[0;34m=\u001b[0m\u001b[0;36m0\u001b[0m\u001b[0;34m\u001b[0m\u001b[0;34m\u001b[0m\u001b[0m\n\u001b[1;32m      6\u001b[0m \u001b[0mfn\u001b[0m\u001b[0;34m=\u001b[0m\u001b[0;36m0\u001b[0m\u001b[0;34m\u001b[0m\u001b[0;34m\u001b[0m\u001b[0m\n\u001b[0;32m----> 7\u001b[0;31m \u001b[0;32mfor\u001b[0m \u001b[0mi\u001b[0m \u001b[0;32min\u001b[0m \u001b[0mrange\u001b[0m\u001b[0;34m(\u001b[0m\u001b[0mlen\u001b[0m\u001b[0;34m(\u001b[0m\u001b[0msentiment_test_labels\u001b[0m\u001b[0;34m)\u001b[0m\u001b[0;34m)\u001b[0m\u001b[0;34m:\u001b[0m\u001b[0;34m\u001b[0m\u001b[0;34m\u001b[0m\u001b[0m\n\u001b[0m\u001b[1;32m      8\u001b[0m     \u001b[0mcp\u001b[0m\u001b[0;34m=\u001b[0m\u001b[0;36m0\u001b[0m\u001b[0;34m\u001b[0m\u001b[0;34m\u001b[0m\u001b[0m\n\u001b[1;32m      9\u001b[0m     \u001b[0;32mif\u001b[0m \u001b[0msentiment_test_labels\u001b[0m\u001b[0;34m[\u001b[0m\u001b[0mi\u001b[0m\u001b[0;34m]\u001b[0m\u001b[0;34m>=\u001b[0m\u001b[0;36m0.996\u001b[0m\u001b[0;34m:\u001b[0m \u001b[0;31m#0.996\u001b[0m\u001b[0;34m\u001b[0m\u001b[0;34m\u001b[0m\u001b[0m\n",
      "\u001b[0;31mNameError\u001b[0m: name 'sentiment_test_labels' is not defined"
     ]
    }
   ],
   "source": [
    "#using all the models\n",
    "common_pred=[]\n",
    "tp=0\n",
    "fp=0\n",
    "tn=0\n",
    "fn=0\n",
    "for i in range(len(sentiment_test_labels)):\n",
    "    cp=0\n",
    "    if sentiment_test_labels[i]>=0.996: #0.996\n",
    "        cp+=1\n",
    "    if prompt1_test_labels[i]>=0.98: #0.979\n",
    "        cp+=1\n",
    "    if prompt2_test_labels[i]>=0.99: #0.999\n",
    "        cp+=1\n",
    "    if cp>=2:\n",
    "        pred=1\n",
    "    else:\n",
    "        pred=0\n",
    "    if pred==1 and test_labels[i]==1:\n",
    "          tp+=1\n",
    "    elif pred==1 and test_labels[i]==0:\n",
    "          fp+=1\n",
    "    elif pred==0 and test_labels[i]==0:\n",
    "          tn+=1\n",
    "    elif pred==0 and test_labels[i]==1:\n",
    "          fn+=1\n",
    "    common_pred.append(pred)\n",
    "# and prompt1_test_labels[i]>0.9999758 and  \n",
    "print(f\"total {tp+fp+tn+fn}\")\n",
    "print(f\"tp {tp}\")\n",
    "print(f\"fp {fp}\")\n",
    "print(f\"tn {tn}\")\n",
    "print(f\"fn {fn}\")\n",
    "print(f\"pos_precision {tp/(tp+fp)}\")\n",
    "print(f\"pos_recall {tp/(tp+fn)}\")\n",
    "print(f\"pos_f1 {(2*(tp/(tp+fp))*(tp/(tp+fn)))/((tp/(tp+fp))+(tp/(tp+fn)))}\")\n",
    "print(f\"neg_precision {tn/(tn+fn)}\")\n",
    "print(f\"neg_recall {tn/(tn+fp)}\")\n",
    "print(f\"neg_f1 {(2*(tn/(tn+fn))*(tn/(tn+fp)))/((tn/(tn+fn))+(tn/(tn+fp)))}\")\n",
    "print(f\"accuracy {(tp+tn)/(tp+tn+fp+fn)}\")"
   ]
  },
  {
   "cell_type": "code",
   "execution_count": 14,
   "id": "6977d0f2",
   "metadata": {},
   "outputs": [],
   "source": [
    "test_df['pred_label']=common_pred"
   ]
  },
  {
   "cell_type": "code",
   "execution_count": 24,
   "id": "ddaef119",
   "metadata": {},
   "outputs": [
    {
     "data": {
      "text/plain": [
       "0"
      ]
     },
     "execution_count": 24,
     "metadata": {},
     "output_type": "execute_result"
    }
   ],
   "source": [
    "test_df['pred_label'][50]"
   ]
  },
  {
   "cell_type": "code",
   "execution_count": 23,
   "id": "f1446a17",
   "metadata": {},
   "outputs": [
    {
     "data": {
      "text/plain": [
       "0"
      ]
     },
     "execution_count": 23,
     "metadata": {},
     "output_type": "execute_result"
    }
   ],
   "source": [
    "#val\n",
    "common_pred[172]"
   ]
  },
  {
   "cell_type": "code",
   "execution_count": 8,
   "id": "eb325b34",
   "metadata": {},
   "outputs": [
    {
     "name": "stdout",
     "output_type": "stream",
     "text": [
      "total 286\n",
      "tp 113\n",
      "fp 66\n",
      "tn 77\n",
      "fn 30\n",
      "pos_precision 0.6312849162011173\n",
      "pos_recall 0.7902097902097902\n",
      "pos_f1 0.701863354037267\n",
      "neg_precision 0.719626168224299\n",
      "neg_recall 0.5384615384615384\n",
      "neg_f1 0.616\n",
      "accuracy 0.6643356643356644\n"
     ]
    }
   ],
   "source": [
    "#using all the models\n",
    "common_pred=[]\n",
    "tp=0\n",
    "fp=0\n",
    "tn=0\n",
    "fn=0\n",
    "for i in range(len(sentiment_val_labels)):\n",
    "    cp=0\n",
    "    if sentiment_val_labels[i]>=0.996: #0.996\n",
    "        cp+=1\n",
    "    if prompt1_val_labels[i]>=0.98: #0.979\n",
    "        cp+=1\n",
    "    if prompt2_val_labels[i]>=0.99: #0.999\n",
    "        cp+=1\n",
    "    if cp>=2:\n",
    "        pred=1\n",
    "    else:\n",
    "        pred=0\n",
    "    if pred==1 and val_labels[i]==1:\n",
    "          tp+=1\n",
    "    elif pred==1 and val_labels[i]==0:\n",
    "          fp+=1\n",
    "    elif pred==0 and val_labels[i]==0:\n",
    "          tn+=1\n",
    "    elif pred==0 and val_labels[i]==1:\n",
    "          fn+=1\n",
    "    common_pred.append(pred)\n",
    "# and prompt1_test_labels[i]>0.9999758 and  \n",
    "print(f\"total {tp+fp+tn+fn}\")\n",
    "print(f\"tp {tp}\")\n",
    "print(f\"fp {fp}\")\n",
    "print(f\"tn {tn}\")\n",
    "print(f\"fn {fn}\")\n",
    "print(f\"pos_precision {tp/(tp+fp)}\")\n",
    "print(f\"pos_recall {tp/(tp+fn)}\")\n",
    "print(f\"pos_f1 {(2*(tp/(tp+fp))*(tp/(tp+fn)))/((tp/(tp+fp))+(tp/(tp+fn)))}\")\n",
    "print(f\"neg_precision {tn/(tn+fn)}\")\n",
    "print(f\"neg_recall {tn/(tn+fp)}\")\n",
    "print(f\"neg_f1 {(2*(tn/(tn+fn))*(tn/(tn+fp)))/((tn/(tn+fn))+(tn/(tn+fp)))}\")\n",
    "print(f\"accuracy {(tp+tn)/(tp+tn+fp+fn)}\")"
   ]
  },
  {
   "cell_type": "code",
   "execution_count": 15,
   "id": "329a9854",
   "metadata": {},
   "outputs": [
    {
     "data": {
      "text/plain": [
       "1"
      ]
     },
     "execution_count": 15,
     "metadata": {},
     "output_type": "execute_result"
    }
   ],
   "source": [
    "common_pred[272]"
   ]
  },
  {
   "cell_type": "code",
   "execution_count": null,
   "id": "4c252abe",
   "metadata": {},
   "outputs": [],
   "source": []
  },
  {
   "cell_type": "code",
   "execution_count": null,
   "id": "be0a50b9",
   "metadata": {},
   "outputs": [],
   "source": []
  },
  {
   "cell_type": "code",
   "execution_count": 41,
   "id": "347fa347",
   "metadata": {},
   "outputs": [
    {
     "name": "stdout",
     "output_type": "stream",
     "text": [
      "tp 122\n",
      "fp 77\n",
      "tn 66\n",
      "fn 21\n"
     ]
    }
   ],
   "source": [
    "#using all the models\n",
    "# common_pred=0\n",
    "# pos_ind=[]\n",
    "# pos=0\n",
    "# neg=0\n",
    "tp=0\n",
    "fp=0\n",
    "tn=0\n",
    "fn=0\n",
    "for i in range(len(val_labels)):\n",
    "    if sentiment_val_labels[i]==1 and prompt1_val_labels[i]==1 and prompt2_val_labels[i]==1 and val_labels[i]==1:\n",
    "        tp+=1\n",
    "    elif sentiment_val_labels[i]==1 and prompt1_val_labels[i]==1 and prompt2_val_labels[i]==1 and val_labels[i]==0:\n",
    "        fp+=1\n",
    "    elif val_labels[i]==0:\n",
    "        tn+=1\n",
    "    else:\n",
    "        fn+=1\n",
    "# print(f\"common_pred: {common_pred}\")\n",
    "# print(f\"pos: {pos}; len_pos_ind:{len(pos_ind)}\")\n",
    "# print(f\"neg: {neg}\")\n",
    "print(f\"tp {tp}\")\n",
    "print(f\"fp {fp}\")\n",
    "print(f\"tn {tn}\")\n",
    "print(f\"fn {fn}\")"
   ]
  },
  {
   "cell_type": "code",
   "execution_count": 42,
   "id": "edd40e6d",
   "metadata": {},
   "outputs": [
    {
     "name": "stdout",
     "output_type": "stream",
     "text": [
      "pos_precision 0.6130653266331658\n",
      "pos_recall 0.8531468531468531\n",
      "pos_f1 0.7134502923976608\n",
      "neg_precision 0.7586206896551724\n",
      "neg_recall 0.46153846153846156\n",
      "neg_f1 0.5739130434782609\n",
      "accuracy 0.6573426573426573\n"
     ]
    }
   ],
   "source": [
    "print(f\"pos_precision {tp/(tp+fp)}\")\n",
    "print(f\"pos_recall {tp/(tp+fn)}\")\n",
    "print(f\"pos_f1 {(2*(tp/(tp+fp))*(tp/(tp+fn)))/((tp/(tp+fp))+(tp/(tp+fn)))}\")\n",
    "print(f\"neg_precision {tn/(tn+fn)}\")\n",
    "print(f\"neg_recall {tn/(tn+fp)}\")\n",
    "print(f\"neg_f1 {(2*(tn/(tn+fn))*(tn/(tn+fp)))/((tn/(tn+fn))+(tn/(tn+fp)))}\")\n",
    "print(f\"accuracy {(tp+tn)/(tp+tn+fp+fn)}\")"
   ]
  },
  {
   "cell_type": "code",
   "execution_count": 46,
   "id": "6c228fbe",
   "metadata": {},
   "outputs": [
    {
     "name": "stdout",
     "output_type": "stream",
     "text": [
      "tp 964\n",
      "fp 458\n",
      "tn 459\n",
      "fn 119\n",
      "pos_precision 0.6779184247538678\n",
      "pos_recall 0.8901200369344414\n",
      "pos_f1 0.7696606786427145\n",
      "neg_precision 0.7941176470588235\n",
      "neg_recall 0.5005452562704471\n",
      "neg_f1 0.6140468227424749\n",
      "accuracy 0.7115\n"
     ]
    }
   ],
   "source": [
    "#using all the models\n",
    "# common_pred=0\n",
    "# pos_ind=[]\n",
    "# pos=0\n",
    "# neg=0\n",
    "tp=0\n",
    "fp=0\n",
    "tn=0\n",
    "fn=0\n",
    "for i in range(len(test_labels)):\n",
    "    if sentiment_test_labels[i]==1 and prompt1_test_labels[i]==1 and prompt2_test_labels[i]==1 and test_labels[i]==1:\n",
    "        tp+=1\n",
    "    elif sentiment_test_labels[i]==1 and prompt1_test_labels[i]==1 and prompt2_test_labels[i]==1 and test_labels[i]==0:\n",
    "        fp+=1\n",
    "    elif test_labels[i]==0:\n",
    "        tn+=1\n",
    "    else:\n",
    "        fn+=1\n",
    "# print(f\"common_pred: {common_pred}\")\n",
    "# print(f\"pos: {pos}; len_pos_ind:{len(pos_ind)}\")\n",
    "# print(f\"neg: {neg}\")\n",
    "print(f\"tp {tp}\")\n",
    "print(f\"fp {fp}\")\n",
    "print(f\"tn {tn}\")\n",
    "print(f\"fn {fn}\")\n",
    "print(f\"pos_precision {tp/(tp+fp)}\")\n",
    "print(f\"pos_recall {tp/(tp+fn)}\")\n",
    "print(f\"pos_f1 {(2*(tp/(tp+fp))*(tp/(tp+fn)))/((tp/(tp+fp))+(tp/(tp+fn)))}\")\n",
    "print(f\"neg_precision {tn/(tn+fn)}\")\n",
    "print(f\"neg_recall {tn/(tn+fp)}\")\n",
    "print(f\"neg_f1 {(2*(tn/(tn+fn))*(tn/(tn+fp)))/((tn/(tn+fn))+(tn/(tn+fp)))}\")\n",
    "print(f\"accuracy {(tp+tn)/(tp+tn+fp+fn)}\")"
   ]
  },
  {
   "cell_type": "code",
   "execution_count": null,
   "id": "00363c67",
   "metadata": {},
   "outputs": [],
   "source": []
  },
  {
   "cell_type": "code",
   "execution_count": null,
   "id": "b02a1b01",
   "metadata": {},
   "outputs": [],
   "source": []
  },
  {
   "cell_type": "code",
   "execution_count": null,
   "id": "70369af6",
   "metadata": {},
   "outputs": [],
   "source": []
  },
  {
   "cell_type": "code",
   "execution_count": null,
   "id": "a66f971c",
   "metadata": {},
   "outputs": [],
   "source": []
  },
  {
   "cell_type": "code",
   "execution_count": null,
   "id": "c0930a7e",
   "metadata": {},
   "outputs": [],
   "source": []
  },
  {
   "cell_type": "code",
   "execution_count": null,
   "id": "a1532504",
   "metadata": {},
   "outputs": [],
   "source": []
  },
  {
   "cell_type": "code",
   "execution_count": null,
   "id": "c000c393",
   "metadata": {},
   "outputs": [],
   "source": []
  },
  {
   "cell_type": "code",
   "execution_count": null,
   "id": "f46fc83e",
   "metadata": {},
   "outputs": [],
   "source": []
  },
  {
   "cell_type": "code",
   "execution_count": null,
   "id": "7c070e70",
   "metadata": {},
   "outputs": [],
   "source": []
  },
  {
   "cell_type": "code",
   "execution_count": 111,
   "id": "c2a8e022",
   "metadata": {},
   "outputs": [],
   "source": [
    "#using all the models\n",
    "cp=[]\n",
    "for i in range(len(sentiment_test_labels)):\n",
    "    if prompt2_test_labels[i]==prompt1_test_labels[i] and sentiment_test_labels[i]!=prompt1_test_labels[i]:\n",
    "        cp.append(1)\n",
    "    else:\n",
    "        cp.append(0)\n",
    "# print(cp)\n",
    "test_df[\"is_complementary\"]=cp\n",
    "# test_df.to_excel(\"complementary.xlsx\")"
   ]
  },
  {
   "cell_type": "code",
   "execution_count": 115,
   "id": "24c61b5a",
   "metadata": {},
   "outputs": [
    {
     "data": {
      "text/plain": [
       "0"
      ]
     },
     "execution_count": 115,
     "metadata": {},
     "output_type": "execute_result"
    }
   ],
   "source": [
    "sentiment_test_labels[7]"
   ]
  },
  {
   "cell_type": "code",
   "execution_count": 116,
   "id": "ea257058",
   "metadata": {},
   "outputs": [
    {
     "data": {
      "text/plain": [
       "1"
      ]
     },
     "execution_count": 116,
     "metadata": {},
     "output_type": "execute_result"
    }
   ],
   "source": [
    "prompt2_test_labels[7]"
   ]
  },
  {
   "cell_type": "code",
   "execution_count": 20,
   "id": "b28011b8",
   "metadata": {},
   "outputs": [
    {
     "name": "stdout",
     "output_type": "stream",
     "text": [
      "286\n",
      "42\n",
      "29\n"
     ]
    }
   ],
   "source": [
    "#using all the models\n",
    "cp=[]\n",
    "tmp=0\n",
    "sent=0\n",
    "isent=[]\n",
    "for i in range(len(sentiment_val_labels)):\n",
    "    if prompt2_val_labels[i]==prompt1_val_labels[i] and sentiment_val_labels[i]!=prompt1_val_labels[i]:\n",
    "        cp.append(1)\n",
    "        tmp+=1\n",
    "        if sentiment_val_labels[i]==val_labels[i]:\n",
    "            sent+=1\n",
    "            isent.append(1)\n",
    "        else:\n",
    "            isent.append(0)\n",
    "    else:\n",
    "        cp.append(0)\n",
    "        isent.append(0)\n",
    "print(len(cp))\n",
    "print(tmp)\n",
    "print(sent)\n",
    "test_df[\"is_complementary\"]=cp\n",
    "test_df[\"is_sentiment\"]=isent\n",
    "test_df.to_excel(\"complementary_sent_dev.xlsx\")"
   ]
  },
  {
   "cell_type": "code",
   "execution_count": 17,
   "id": "4dca1f8d",
   "metadata": {},
   "outputs": [
    {
     "name": "stdout",
     "output_type": "stream",
     "text": [
      "286\n",
      "40\n",
      "19\n",
      "23\n"
     ]
    }
   ],
   "source": [
    "#using all the models\n",
    "cp=[]\n",
    "tmp=0\n",
    "sent=0\n",
    "p2=0\n",
    "for i in range(len(sentiment_val_labels)):\n",
    "    if prompt1_val_labels[i]!=prompt2_val_labels[i]:\n",
    "        cp.append(1)\n",
    "        tmp+=1\n",
    "        if prompt2_val_labels[i]==val_labels[i]:\n",
    "            p2+=1\n",
    "        if sentiment_val_labels[i]==val_labels[i]:\n",
    "            sent+=1\n",
    "    else:\n",
    "        cp.append(0)\n",
    "print(len(cp))\n",
    "print(tmp)\n",
    "print(sent)\n",
    "print(p2)\n",
    "# test_df[\"is_complementary\"]=cp\n",
    "# test_df.to_excel(\"complementary.xlsx\")"
   ]
  },
  {
   "cell_type": "code",
   "execution_count": null,
   "id": "a4a3fa0f",
   "metadata": {},
   "outputs": [],
   "source": []
  },
  {
   "cell_type": "code",
   "execution_count": null,
   "id": "dd306a8a",
   "metadata": {},
   "outputs": [],
   "source": []
  },
  {
   "cell_type": "code",
   "execution_count": null,
   "id": "0fe99197",
   "metadata": {},
   "outputs": [],
   "source": []
  },
  {
   "cell_type": "code",
   "execution_count": null,
   "id": "5461e058",
   "metadata": {},
   "outputs": [],
   "source": []
  },
  {
   "cell_type": "markdown",
   "id": "faccbe70",
   "metadata": {},
   "source": [
    "# Ensembling"
   ]
  },
  {
   "cell_type": "markdown",
   "id": "0398c44d",
   "metadata": {},
   "source": [
    "without thresholding"
   ]
  },
  {
   "cell_type": "code",
   "execution_count": 12,
   "id": "e105595d",
   "metadata": {},
   "outputs": [
    {
     "name": "stdout",
     "output_type": "stream",
     "text": [
      "common_pred: 14633\n",
      "pos: 13785; len_pos_ind:13785\n",
      "neg: 848\n"
     ]
    }
   ],
   "source": [
    "#using all the models\n",
    "common_pred=0\n",
    "pos_ind=[]\n",
    "pos=0\n",
    "neg=0\n",
    "for i in range(len(sentiment_test_labels)):\n",
    "    if sentiment_test_labels[i]==prompt1_test_labels[i] and prompt1_test_labels[i]==prompt2_test_labels[i]:\n",
    "        common_pred+=1\n",
    "        if sentiment_test_labels[i]==1:\n",
    "            pos_ind.append(i)\n",
    "            pos+=1\n",
    "        else:\n",
    "            neg+=1\n",
    "\n",
    "print(f\"common_pred: {common_pred}\")\n",
    "print(f\"pos: {pos}; len_pos_ind:{len(pos_ind)}\")\n",
    "print(f\"neg: {neg}\")"
   ]
  },
  {
   "cell_type": "markdown",
   "id": "08cb44df",
   "metadata": {},
   "source": [
    "with thresholding"
   ]
  },
  {
   "cell_type": "markdown",
   "id": "77bc10aa",
   "metadata": {},
   "source": [
    "--------------------------------------------------------------------------------------"
   ]
  },
  {
   "cell_type": "code",
   "execution_count": 7,
   "id": "f3464980",
   "metadata": {},
   "outputs": [
    {
     "name": "stdout",
     "output_type": "stream",
     "text": [
      "pos: 2643; len_pos_ind:2643\n",
      "neg: 15832\n"
     ]
    }
   ],
   "source": [
    "common_pred=0\n",
    "pos_ind=[]\n",
    "pos=0\n",
    "neg=0\n",
    "for i in range(len(sentiment_test_labels)):\n",
    "    if sentiment_test_labels[i]>0.99616:\n",
    "        pos_ind.append(i)\n",
    "        pos+=1\n",
    "    else:\n",
    "        neg+=1\n",
    "print(f\"pos: {pos}; len_pos_ind:{len(pos_ind)}\")\n",
    "print(f\"neg: {neg}\")"
   ]
  },
  {
   "cell_type": "code",
   "execution_count": 8,
   "id": "3e28724d",
   "metadata": {},
   "outputs": [],
   "source": [
    "# train_df=pd.read_excel('../../data/data.xlsx', sheet_name=0)\n",
    "unlabelled_pos_df=pd.read_excel('../../data/noisy_train_cot_0.xlsx', sheet_name=0)"
   ]
  },
  {
   "cell_type": "code",
   "execution_count": 9,
   "id": "3fc2a3c9",
   "metadata": {},
   "outputs": [],
   "source": [
    "only_pos_df=unlabelled_pos_df.iloc[pos_ind,:] "
   ]
  },
  {
   "cell_type": "code",
   "execution_count": 10,
   "id": "f969fe16",
   "metadata": {},
   "outputs": [
    {
     "data": {
      "text/plain": [
       "2643"
      ]
     },
     "execution_count": 10,
     "metadata": {},
     "output_type": "execute_result"
    }
   ],
   "source": [
    "len(only_pos_df)"
   ]
  },
  {
   "cell_type": "code",
   "execution_count": 20,
   "id": "3a2a79ed",
   "metadata": {},
   "outputs": [
    {
     "data": {
      "text/plain": [
       "15159"
      ]
     },
     "execution_count": 20,
     "metadata": {},
     "output_type": "execute_result"
    }
   ],
   "source": [
    "# train_df=train_df.append(only_pos_df, ignore_index = True)\n",
    "# len(train_df)"
   ]
  },
  {
   "cell_type": "code",
   "execution_count": 11,
   "id": "52d16812",
   "metadata": {},
   "outputs": [
    {
     "data": {
      "text/html": [
       "<div>\n",
       "<style scoped>\n",
       "    .dataframe tbody tr th:only-of-type {\n",
       "        vertical-align: middle;\n",
       "    }\n",
       "\n",
       "    .dataframe tbody tr th {\n",
       "        vertical-align: top;\n",
       "    }\n",
       "\n",
       "    .dataframe thead th {\n",
       "        text-align: right;\n",
       "    }\n",
       "</style>\n",
       "<table border=\"1\" class=\"dataframe\">\n",
       "  <thead>\n",
       "    <tr style=\"text-align: right;\">\n",
       "      <th></th>\n",
       "      <th>target_genes</th>\n",
       "      <th>statements</th>\n",
       "      <th>labels</th>\n",
       "    </tr>\n",
       "  </thead>\n",
       "  <tbody>\n",
       "    <tr>\n",
       "      <th>0</th>\n",
       "      <td>aat</td>\n",
       "      <td>OBJECTIVE: To determine the association of alp...</td>\n",
       "      <td>0</td>\n",
       "    </tr>\n",
       "    <tr>\n",
       "      <th>1</th>\n",
       "      <td>aat</td>\n",
       "      <td>BACKGROUND: Alpha-1 antitrypsin (AAT) is a maj...</td>\n",
       "      <td>0</td>\n",
       "    </tr>\n",
       "    <tr>\n",
       "      <th>2</th>\n",
       "      <td>aat</td>\n",
       "      <td>Inherited deficiency of the antiprotease alpha...</td>\n",
       "      <td>0</td>\n",
       "    </tr>\n",
       "    <tr>\n",
       "      <th>3</th>\n",
       "      <td>aat</td>\n",
       "      <td>Both H2S and SO2 are endogenously produced in ...</td>\n",
       "      <td>0</td>\n",
       "    </tr>\n",
       "    <tr>\n",
       "      <th>4</th>\n",
       "      <td>aat</td>\n",
       "      <td>Animal African Trypanosomiasis (AAT) is a debi...</td>\n",
       "      <td>0</td>\n",
       "    </tr>\n",
       "    <tr>\n",
       "      <th>...</th>\n",
       "      <td>...</td>\n",
       "      <td>...</td>\n",
       "      <td>...</td>\n",
       "    </tr>\n",
       "    <tr>\n",
       "      <th>23514</th>\n",
       "      <td>ZWILCH</td>\n",
       "      <td>We used immunoaffinity chromatography and mass...</td>\n",
       "      <td>0</td>\n",
       "    </tr>\n",
       "    <tr>\n",
       "      <th>23515</th>\n",
       "      <td>ZWINT</td>\n",
       "      <td>HZwint-1 (Human ZW10 interacting protein-1) wa...</td>\n",
       "      <td>0</td>\n",
       "    </tr>\n",
       "    <tr>\n",
       "      <th>23516</th>\n",
       "      <td>ZXDA</td>\n",
       "      <td>Two highly similar zinc finger genes, ZXDA (Zi...</td>\n",
       "      <td>0</td>\n",
       "    </tr>\n",
       "    <tr>\n",
       "      <th>23517</th>\n",
       "      <td>ZXDB</td>\n",
       "      <td>Two highly similar zinc finger genes, ZXDA (Zi...</td>\n",
       "      <td>0</td>\n",
       "    </tr>\n",
       "    <tr>\n",
       "      <th>23518</th>\n",
       "      <td>ZZZ3</td>\n",
       "      <td>Interestingly, NF-Y affects H2B acetylation in...</td>\n",
       "      <td>0</td>\n",
       "    </tr>\n",
       "  </tbody>\n",
       "</table>\n",
       "<p>23519 rows × 3 columns</p>\n",
       "</div>"
      ],
      "text/plain": [
       "      target_genes                                         statements  labels\n",
       "0              aat  OBJECTIVE: To determine the association of alp...       0\n",
       "1              aat  BACKGROUND: Alpha-1 antitrypsin (AAT) is a maj...       0\n",
       "2              aat  Inherited deficiency of the antiprotease alpha...       0\n",
       "3              aat  Both H2S and SO2 are endogenously produced in ...       0\n",
       "4              aat  Animal African Trypanosomiasis (AAT) is a debi...       0\n",
       "...            ...                                                ...     ...\n",
       "23514       ZWILCH  We used immunoaffinity chromatography and mass...       0\n",
       "23515        ZWINT  HZwint-1 (Human ZW10 interacting protein-1) wa...       0\n",
       "23516         ZXDA  Two highly similar zinc finger genes, ZXDA (Zi...       0\n",
       "23517         ZXDB  Two highly similar zinc finger genes, ZXDA (Zi...       0\n",
       "23518         ZZZ3  Interestingly, NF-Y affects H2B acetylation in...       0\n",
       "\n",
       "[23519 rows x 3 columns]"
      ]
     },
     "execution_count": 11,
     "metadata": {},
     "output_type": "execute_result"
    }
   ],
   "source": [
    "negatives_df=pd.read_excel('../../data/negatives.xlsx', sheet_name=0)\n",
    "negatives_df"
   ]
  },
  {
   "cell_type": "code",
   "execution_count": 12,
   "id": "84653b6c",
   "metadata": {},
   "outputs": [],
   "source": [
    "only_neg_df=negatives_df.sample(n = len(only_pos_df), replace = False)"
   ]
  },
  {
   "cell_type": "code",
   "execution_count": 13,
   "id": "fbe24965",
   "metadata": {},
   "outputs": [
    {
     "data": {
      "text/plain": [
       "2643"
      ]
     },
     "execution_count": 13,
     "metadata": {},
     "output_type": "execute_result"
    }
   ],
   "source": [
    "len(only_neg_df)"
   ]
  },
  {
   "cell_type": "code",
   "execution_count": 21,
   "id": "7c183f09",
   "metadata": {},
   "outputs": [
    {
     "data": {
      "text/plain": [
       "17802"
      ]
     },
     "execution_count": 21,
     "metadata": {},
     "output_type": "execute_result"
    }
   ],
   "source": [
    "# train_df=train_df.append(only_neg_df, ignore_index = True)\n",
    "# len(train_df)"
   ]
  },
  {
   "cell_type": "code",
   "execution_count": 14,
   "id": "c3abd420",
   "metadata": {},
   "outputs": [],
   "source": [
    "augmented_df=only_pos_df.append(only_neg_df, ignore_index = True)\n",
    "augmented_df = augmented_df.sample(frac=1).reset_index(drop=True)"
   ]
  },
  {
   "cell_type": "code",
   "execution_count": 15,
   "id": "e98e76b5",
   "metadata": {},
   "outputs": [
    {
     "data": {
      "text/html": [
       "<div>\n",
       "<style scoped>\n",
       "    .dataframe tbody tr th:only-of-type {\n",
       "        vertical-align: middle;\n",
       "    }\n",
       "\n",
       "    .dataframe tbody tr th {\n",
       "        vertical-align: top;\n",
       "    }\n",
       "\n",
       "    .dataframe thead th {\n",
       "        text-align: right;\n",
       "    }\n",
       "</style>\n",
       "<table border=\"1\" class=\"dataframe\">\n",
       "  <thead>\n",
       "    <tr style=\"text-align: right;\">\n",
       "      <th></th>\n",
       "      <th>Unnamed: 0</th>\n",
       "      <th>target_genes</th>\n",
       "      <th>statements</th>\n",
       "      <th>labels</th>\n",
       "    </tr>\n",
       "  </thead>\n",
       "  <tbody>\n",
       "    <tr>\n",
       "      <th>0</th>\n",
       "      <td>NaN</td>\n",
       "      <td>dyn</td>\n",
       "      <td>The interaction between the natural products a...</td>\n",
       "      <td>0</td>\n",
       "    </tr>\n",
       "    <tr>\n",
       "      <th>1</th>\n",
       "      <td>NaN</td>\n",
       "      <td>MSRA</td>\n",
       "      <td>Finally, the enhanced node features are used t...</td>\n",
       "      <td>0</td>\n",
       "    </tr>\n",
       "    <tr>\n",
       "      <th>2</th>\n",
       "      <td>NaN</td>\n",
       "      <td>jhdm</td>\n",
       "      <td>Many epigenetic mechanisms are therapeutically...</td>\n",
       "      <td>0</td>\n",
       "    </tr>\n",
       "    <tr>\n",
       "      <th>3</th>\n",
       "      <td>10203.0</td>\n",
       "      <td>mtrC</td>\n",
       "      <td>Clinical isolates with increased resistance to...</td>\n",
       "      <td>1</td>\n",
       "    </tr>\n",
       "    <tr>\n",
       "      <th>4</th>\n",
       "      <td>10382.0</td>\n",
       "      <td>mtrE</td>\n",
       "      <td>Mutant DW120, which carries the mtr120 mutatio...</td>\n",
       "      <td>1</td>\n",
       "    </tr>\n",
       "    <tr>\n",
       "      <th>...</th>\n",
       "      <td>...</td>\n",
       "      <td>...</td>\n",
       "      <td>...</td>\n",
       "      <td>...</td>\n",
       "    </tr>\n",
       "    <tr>\n",
       "      <th>5281</th>\n",
       "      <td>13635.0</td>\n",
       "      <td>QnrS2</td>\n",
       "      <td>punctata have already been associated with res...</td>\n",
       "      <td>1</td>\n",
       "    </tr>\n",
       "    <tr>\n",
       "      <th>5282</th>\n",
       "      <td>10636.0</td>\n",
       "      <td>MUS-1</td>\n",
       "      <td>However, meropenem is characteristically hydro...</td>\n",
       "      <td>1</td>\n",
       "    </tr>\n",
       "    <tr>\n",
       "      <th>5283</th>\n",
       "      <td>NaN</td>\n",
       "      <td>SHC1</td>\n",
       "      <td>067693493533674* mRNA expression level of SPP1...</td>\n",
       "      <td>0</td>\n",
       "    </tr>\n",
       "    <tr>\n",
       "      <th>5284</th>\n",
       "      <td>12936.0</td>\n",
       "      <td>OXA-5</td>\n",
       "      <td>Early biophysical and biochemical studies on O...</td>\n",
       "      <td>1</td>\n",
       "    </tr>\n",
       "    <tr>\n",
       "      <th>5285</th>\n",
       "      <td>11939.0</td>\n",
       "      <td>oqxA</td>\n",
       "      <td>Another plasmid-mediated efflux pump gene belo...</td>\n",
       "      <td>1</td>\n",
       "    </tr>\n",
       "  </tbody>\n",
       "</table>\n",
       "<p>5286 rows × 4 columns</p>\n",
       "</div>"
      ],
      "text/plain": [
       "      Unnamed: 0 target_genes  \\\n",
       "0            NaN          dyn   \n",
       "1            NaN         MSRA   \n",
       "2            NaN         jhdm   \n",
       "3        10203.0         mtrC   \n",
       "4        10382.0         mtrE   \n",
       "...          ...          ...   \n",
       "5281     13635.0        QnrS2   \n",
       "5282     10636.0        MUS-1   \n",
       "5283         NaN         SHC1   \n",
       "5284     12936.0        OXA-5   \n",
       "5285     11939.0         oqxA   \n",
       "\n",
       "                                             statements  labels  \n",
       "0     The interaction between the natural products a...       0  \n",
       "1     Finally, the enhanced node features are used t...       0  \n",
       "2     Many epigenetic mechanisms are therapeutically...       0  \n",
       "3     Clinical isolates with increased resistance to...       1  \n",
       "4     Mutant DW120, which carries the mtr120 mutatio...       1  \n",
       "...                                                 ...     ...  \n",
       "5281  punctata have already been associated with res...       1  \n",
       "5282  However, meropenem is characteristically hydro...       1  \n",
       "5283  067693493533674* mRNA expression level of SPP1...       0  \n",
       "5284  Early biophysical and biochemical studies on O...       1  \n",
       "5285  Another plasmid-mediated efflux pump gene belo...       1  \n",
       "\n",
       "[5286 rows x 4 columns]"
      ]
     },
     "execution_count": 15,
     "metadata": {},
     "output_type": "execute_result"
    }
   ],
   "source": [
    "augmented_df"
   ]
  },
  {
   "cell_type": "code",
   "execution_count": 17,
   "id": "89e1713b",
   "metadata": {},
   "outputs": [],
   "source": [
    "augmented_df.to_excel('../../data/cotraining1.xlsx')"
   ]
  },
  {
   "cell_type": "markdown",
   "id": "657614e6",
   "metadata": {},
   "source": [
    "-------------------------------------------------------------------------------------------"
   ]
  },
  {
   "cell_type": "code",
   "execution_count": 28,
   "id": "3f94266f",
   "metadata": {},
   "outputs": [
    {
     "name": "stdout",
     "output_type": "stream",
     "text": [
      "pos: 3598; len_pos_ind:3598\n",
      "neg: 14877\n"
     ]
    }
   ],
   "source": [
    "common_pred=0\n",
    "pos_ind=[]\n",
    "pos=0\n",
    "neg=0\n",
    "for i in range(len(sentiment_test_labels)):\n",
    "    if prompt1_test_labels[i]>0.9999758:\n",
    "        pos_ind.append(i)\n",
    "        pos+=1\n",
    "    else:\n",
    "        neg+=1\n",
    "print(f\"pos: {pos}; len_pos_ind:{len(pos_ind)}\")\n",
    "print(f\"neg: {neg}\")"
   ]
  },
  {
   "cell_type": "code",
   "execution_count": 29,
   "id": "ed3aeb33",
   "metadata": {},
   "outputs": [
    {
     "name": "stdout",
     "output_type": "stream",
     "text": [
      "pos: 3075; len_pos_ind:3075\n",
      "neg: 15400\n"
     ]
    }
   ],
   "source": [
    "common_pred=0\n",
    "pos_ind=[]\n",
    "pos=0\n",
    "neg=0\n",
    "for i in range(len(sentiment_test_labels)):\n",
    "    if prompt2_test_labels[i]>0.99999:\n",
    "        pos_ind.append(i)\n",
    "        pos+=1\n",
    "    else:\n",
    "        neg+=1\n",
    "print(f\"pos: {pos}; len_pos_ind:{len(pos_ind)}\")\n",
    "print(f\"neg: {neg}\")"
   ]
  },
  {
   "cell_type": "code",
   "execution_count": 12,
   "id": "9b6d97d5",
   "metadata": {},
   "outputs": [
    {
     "name": "stdout",
     "output_type": "stream",
     "text": [
      "pos: 2620; len_pos_ind:2620\n",
      "neg: 15855\n"
     ]
    }
   ],
   "source": [
    "#ensembling all after thresholding\n",
    "common_pred=0\n",
    "pos_ind2=[]\n",
    "pos=0\n",
    "neg=0\n",
    "for i in range(len(sentiment_test_labels)):\n",
    "    if sentiment_test_labels[i]>0.99616 and prompt1_test_labels[i]==1and prompt2_test_labels[i]==1:\n",
    "        pos_ind2.append(i)\n",
    "        pos+=1\n",
    "    else:\n",
    "        neg+=1\n",
    "print(f\"pos: {pos}; len_pos_ind:{len(pos_ind2)}\")\n",
    "print(f\"neg: {neg}\")"
   ]
  },
  {
   "cell_type": "code",
   "execution_count": 14,
   "id": "1e89caa2",
   "metadata": {},
   "outputs": [
    {
     "data": {
      "text/plain": [
       "2620"
      ]
     },
     "execution_count": 14,
     "metadata": {},
     "output_type": "execute_result"
    }
   ],
   "source": [
    "#compare pos_ind and pos_ind2\n",
    "len(set(pos_ind).intersection(pos_ind2))\n"
   ]
  },
  {
   "cell_type": "code",
   "execution_count": 15,
   "id": "89b6e369",
   "metadata": {},
   "outputs": [
    {
     "name": "stdout",
     "output_type": "stream",
     "text": [
      "2620\n"
     ]
    }
   ],
   "source": [
    "pos_ind.sort()\n",
    "pos_ind2.sort()\n",
    "c=0\n",
    "for i in range(len(pos_ind)):\n",
    "    for j in range(len(pos_ind2)):\n",
    "        if pos_ind[i]==pos_ind2[j]:\n",
    "            c+=1\n",
    "            \n",
    "print(c)"
   ]
  },
  {
   "cell_type": "code",
   "execution_count": null,
   "id": "526b409b",
   "metadata": {},
   "outputs": [],
   "source": []
  },
  {
   "cell_type": "code",
   "execution_count": null,
   "id": "21fe47fc",
   "metadata": {},
   "outputs": [],
   "source": []
  },
  {
   "cell_type": "code",
   "execution_count": null,
   "id": "a7e99500",
   "metadata": {},
   "outputs": [],
   "source": []
  },
  {
   "cell_type": "code",
   "execution_count": null,
   "id": "fd13bffb",
   "metadata": {},
   "outputs": [],
   "source": [
    "#ensembling all after thresholding\n",
    "common_pred=0\n",
    "pos_ind=[]\n",
    "pos=0\n",
    "neg=0\n",
    "for i in range(len(sentiment_test_labels)):\n",
    "    if sentiment_test_labels[i]>0.99616 and prompt1_test_labels[i]>0.9999758 and prompt2_test_labels[i]>0.99999:\n",
    "        pos_ind.append(i)\n",
    "        pos+=1\n",
    "    else:\n",
    "        neg+=1\n",
    "print(f\"pos: {pos}; len_pos_ind:{len(pos_ind)}\")\n",
    "print(f\"neg: {neg}\")"
   ]
  },
  {
   "cell_type": "code",
   "execution_count": 31,
   "id": "3a5bd409",
   "metadata": {},
   "outputs": [
    {
     "name": "stdout",
     "output_type": "stream",
     "text": [
      "pos: 1055; len_pos_ind:1055\n",
      "neg: 17420\n"
     ]
    }
   ],
   "source": [
    "#ensembling senti and p2 after thresholding\n",
    "common_pred=0\n",
    "pos_ind=[]\n",
    "pos=0\n",
    "neg=0\n",
    "for i in range(len(sentiment_test_labels)):\n",
    "    if sentiment_test_labels[i]>0.99616 and prompt2_test_labels[i]>0.99999:\n",
    "        pos_ind.append(i)\n",
    "        pos+=1\n",
    "    else:\n",
    "        neg+=1\n",
    "print(f\"pos: {pos}; len_pos_ind:{len(pos_ind)}\")\n",
    "print(f\"neg: {neg}\")"
   ]
  },
  {
   "cell_type": "markdown",
   "id": "75976c53",
   "metadata": {},
   "source": [
    "# Modifying noisy training data"
   ]
  },
  {
   "cell_type": "code",
   "execution_count": null,
   "id": "849b6613",
   "metadata": {},
   "outputs": [],
   "source": [
    "train_df=pd.read_excel('../../data/data.xlsx', sheet_name=0)\n",
    "noisy_train_df=pd.read_excel('../../data/data.xlsx', sheet_name=3)"
   ]
  },
  {
   "cell_type": "code",
   "execution_count": 13,
   "id": "199a64e7",
   "metadata": {},
   "outputs": [],
   "source": [
    "def components(df):\n",
    "    statements = list(df['statements'])\n",
    "    labels = list(df['labels'])\n",
    "    genes = list(df['target_genes'])\n",
    "    return statements, labels, genes"
   ]
  },
  {
   "cell_type": "code",
   "execution_count": 20,
   "id": "ffcb1204",
   "metadata": {},
   "outputs": [],
   "source": [
    "train_statements, train_labels, train_genes=components(train_df)\n",
    "noisy_train_statements, noisy_train_labels, noisy_train_genes=components(noisy_train_df)"
   ]
  },
  {
   "cell_type": "code",
   "execution_count": 15,
   "id": "6dede54a",
   "metadata": {},
   "outputs": [
    {
     "data": {
      "text/plain": [
       "5623"
      ]
     },
     "execution_count": 15,
     "metadata": {},
     "output_type": "execute_result"
    }
   ],
   "source": [
    "len(set(train_statements).intersection(noisy_train_statements))"
   ]
  },
  {
   "cell_type": "markdown",
   "id": "707c976f",
   "metadata": {},
   "source": [
    "check indexing before proceeding"
   ]
  },
  {
   "cell_type": "code",
   "execution_count": 16,
   "id": "1a6a2b56",
   "metadata": {},
   "outputs": [],
   "source": [
    "drop_idx=[]\n",
    "for i in range(len(train_statements)):\n",
    "    for j in range(len(noisy_train_statements)):\n",
    "        if train_statements[i]==noisy_train_statements[j] and train_genes[i]==noisy_train_genes[j]:\n",
    "            drop_idx.append(j)"
   ]
  },
  {
   "cell_type": "code",
   "execution_count": 17,
   "id": "df984d6b",
   "metadata": {},
   "outputs": [],
   "source": [
    "noisy_train_df.drop(drop_idx, inplace=True)\n",
    "noisy_train_statements, noisy_train_labels, noisy_train_genes=components(noisy_train_df)"
   ]
  },
  {
   "cell_type": "code",
   "execution_count": 21,
   "id": "43eb76a0",
   "metadata": {},
   "outputs": [
    {
     "name": "stdout",
     "output_type": "stream",
     "text": [
      "0\n"
     ]
    }
   ],
   "source": [
    "c=0\n",
    "for i in range(len(train_statements)):\n",
    "    for j in range(len(noisy_train_statements)):\n",
    "        if train_statements[i]==noisy_train_statements[j] and train_genes[i]==noisy_train_genes[j]:\n",
    "            c+=1\n",
    "            \n",
    "print(c)"
   ]
  },
  {
   "cell_type": "code",
   "execution_count": 22,
   "id": "c8b9d63b",
   "metadata": {},
   "outputs": [
    {
     "data": {
      "text/plain": [
       "18475"
      ]
     },
     "execution_count": 22,
     "metadata": {},
     "output_type": "execute_result"
    }
   ],
   "source": [
    "len(noisy_train_statements)"
   ]
  },
  {
   "cell_type": "code",
   "execution_count": 27,
   "id": "f9230cb7",
   "metadata": {},
   "outputs": [],
   "source": [
    "noisy_train_df.reset_index(inplace=True, drop=True)"
   ]
  },
  {
   "cell_type": "code",
   "execution_count": 28,
   "id": "3c5db942",
   "metadata": {},
   "outputs": [],
   "source": [
    "noisy_train_df.to_excel('../../data/noisy_train_cot_0.xlsx')"
   ]
  },
  {
   "cell_type": "code",
   "execution_count": null,
   "id": "9c25b906",
   "metadata": {},
   "outputs": [],
   "source": []
  },
  {
   "cell_type": "code",
   "execution_count": null,
   "id": "5e02bb8a",
   "metadata": {},
   "outputs": [],
   "source": []
  },
  {
   "cell_type": "code",
   "execution_count": null,
   "id": "1e297ff0",
   "metadata": {},
   "outputs": [],
   "source": []
  },
  {
   "cell_type": "code",
   "execution_count": null,
   "id": "33387be2",
   "metadata": {},
   "outputs": [],
   "source": []
  },
  {
   "cell_type": "markdown",
   "id": "499180b9",
   "metadata": {},
   "source": [
    "# Ensembling rough analysis"
   ]
  },
  {
   "cell_type": "markdown",
   "id": "a06aa5a8",
   "metadata": {},
   "source": [
    "val thresholding"
   ]
  },
  {
   "cell_type": "code",
   "execution_count": 13,
   "id": "d2c8ec0c",
   "metadata": {},
   "outputs": [
    {
     "name": "stdout",
     "output_type": "stream",
     "text": [
      "total 220\n",
      "tp 118\n",
      "fp 82\n",
      "tn 17\n",
      "fn 3\n",
      "pos_precision 0.59\n",
      "pos_recall 0.9752066115702479\n",
      "pos_f1 0.7352024922118379\n",
      "neg_precision 0.85\n",
      "neg_recall 0.1717171717171717\n",
      "neg_f1 0.2857142857142857\n"
     ]
    }
   ],
   "source": [
    "#using all the models\n",
    "common_pred=0\n",
    "tp=0\n",
    "fp=0\n",
    "tn=0\n",
    "fn=0\n",
    "for i in range(len(sentiment_test_labels)):\n",
    "    if sentiment_test_labels[i]>0.99616 and prompt1_test_labels[i]==1 and prompt2_test_labels[i]==1 and test_labels[i]==1:\n",
    "        tp+=1\n",
    "    elif sentiment_test_labels[i]>0.99616 and prompt1_test_labels[i]==1 and  prompt2_test_labels[i]==1 and test_labels[i]==0:\n",
    "        fp+=1\n",
    "    elif sentiment_test_labels[i]<=0.99616 and prompt1_test_labels[i]==0 and prompt2_test_labels[i]==0 and test_labels[i]==0:\n",
    "        tn+=1\n",
    "    elif sentiment_test_labels[i]<=0.99616 and prompt1_test_labels[i]==0 and prompt2_test_labels[i]==0 and test_labels[i]==1:\n",
    "        fn+=1\n",
    "# and prompt1_test_labels[i]>0.9999758 and  \n",
    "print(f\"total {tp+fp+tn+fn}\")\n",
    "print(f\"tp {tp}\")\n",
    "print(f\"fp {fp}\")\n",
    "print(f\"tn {tn}\")\n",
    "print(f\"fn {fn}\")\n",
    "print(f\"pos_precision {tp/(tp+fp)}\")\n",
    "print(f\"pos_recall {tp/(tp+fn)}\")\n",
    "print(f\"pos_f1 {(2*(tp/(tp+fp))*(tp/(tp+fn)))/((tp/(tp+fp))+(tp/(tp+fn)))}\")\n",
    "print(f\"neg_precision {tn/(tn+fn)}\")\n",
    "print(f\"neg_recall {tn/(tn+fp)}\")\n",
    "print(f\"neg_f1 {(2*(tn/(tn+fn))*(tn/(tn+fp)))/((tn/(tn+fn))+(tn/(tn+fp)))}\")"
   ]
  },
  {
   "cell_type": "code",
   "execution_count": 22,
   "id": "dddb6632",
   "metadata": {
    "collapsed": true
   },
   "outputs": [
    {
     "name": "stdout",
     "output_type": "stream",
     "text": [
      "total 1473\n",
      "tp 953\n",
      "fp 454\n",
      "tn 53\n",
      "fn 13\n",
      "pos_precision 0.6773276474769012\n",
      "pos_recall 0.9865424430641822\n",
      "pos_f1 0.8032026970080068\n",
      "neg_precision 0.803030303030303\n",
      "neg_recall 0.10453648915187377\n",
      "neg_f1 0.18499127399650964\n"
     ]
    }
   ],
   "source": [
    "#using all the models\n",
    "common_pred=0\n",
    "tp=0\n",
    "fp=0\n",
    "tn=0\n",
    "fn=0\n",
    "for i in range(len(sentiment_test_labels)):\n",
    "    if sentiment_test_labels[i]>0.99616 and prompt1_test_labels[i]>0.9999758 and prompt2_test_labels[i]>0.99999 and test_labels[i]==1:\n",
    "        tp+=1\n",
    "    elif sentiment_test_labels[i]>0.99616 and prompt1_test_labels[i]>0.9999758 and  prompt2_test_labels[i]>0.99999 and test_labels[i]==0:\n",
    "        fp+=1\n",
    "    elif sentiment_test_labels[i]<=0.99616 and prompt1_test_labels[i]<=0.9999758 and prompt2_test_labels[i]<=0.99999 and test_labels[i]==0:\n",
    "        tn+=1\n",
    "    elif sentiment_test_labels[i]<=0.99616 and prompt1_test_labels[i]<=0.9999758 and prompt2_test_labels[i]<=0.99999 and test_labels[i]==1:\n",
    "        fn+=1\n",
    "# and prompt1_test_labels[i]>0.9999758 and  \n",
    "print(f\"total {tp+fp+tn+fn}\")\n",
    "print(f\"tp {tp}\")\n",
    "print(f\"fp {fp}\")\n",
    "print(f\"tn {tn}\")\n",
    "print(f\"fn {fn}\")\n",
    "print(f\"pos_precision {tp/(tp+fp)}\")\n",
    "print(f\"pos_recall {tp/(tp+fn)}\")\n",
    "print(f\"pos_f1 {(2*(tp/(tp+fp))*(tp/(tp+fn)))/((tp/(tp+fp))+(tp/(tp+fn)))}\")\n",
    "print(f\"neg_precision {tn/(tn+fn)}\")\n",
    "print(f\"neg_recall {tn/(tn+fp)}\")\n",
    "print(f\"neg_f1 {(2*(tn/(tn+fn))*(tn/(tn+fp)))/((tn/(tn+fn))+(tn/(tn+fp)))}\")"
   ]
  },
  {
   "cell_type": "code",
   "execution_count": 19,
   "id": "5e33c3ac",
   "metadata": {},
   "outputs": [
    {
     "name": "stdout",
     "output_type": "stream",
     "text": [
      "total 223\n",
      "tp 2\n",
      "fp 2\n",
      "tn 128\n",
      "fn 91\n",
      "pos_precision 0.5\n",
      "pos_recall 0.021505376344086023\n",
      "pos_f1 0.04123711340206186\n",
      "neg_precision 0.5844748858447488\n",
      "neg_recall 0.9846153846153847\n",
      "neg_f1 0.7335243553008596\n"
     ]
    }
   ],
   "source": [
    "#using all the models\n",
    "common_pred=0\n",
    "tp=0\n",
    "fp=0\n",
    "tn=0\n",
    "fn=0\n",
    "for i in range(len(sentiment_test_labels)):\n",
    "    if sentiment_test_labels[i]>0.99616 and prompt1_test_labels[i]>0.9999758 and prompt2_test_labels[i]>0.99999 and test_labels[i]==1:\n",
    "        tp+=1\n",
    "    elif sentiment_test_labels[i]>0.99616 and prompt1_test_labels[i]>0.9999758 and  prompt2_test_labels[i]>0.99999 and test_labels[i]==0:\n",
    "        fp+=1\n",
    "    elif sentiment_test_labels[i]<=0.99616 and prompt1_test_labels[i]<=0.9999758 and prompt2_test_labels[i]<=0.99999 and test_labels[i]==0:\n",
    "        tn+=1\n",
    "    elif sentiment_test_labels[i]<=0.99616 and prompt1_test_labels[i]<=0.9999758 and prompt2_test_labels[i]<=0.99999 and test_labels[i]==1:\n",
    "        fn+=1\n",
    "# and prompt1_test_labels[i]>0.9999758 and  \n",
    "print(f\"total {tp+fp+tn+fn}\")\n",
    "print(f\"tp {tp}\")\n",
    "print(f\"fp {fp}\")\n",
    "print(f\"tn {tn}\")\n",
    "print(f\"fn {fn}\")\n",
    "print(f\"pos_precision {tp/(tp+fp)}\")\n",
    "print(f\"pos_recall {tp/(tp+fn)}\")\n",
    "print(f\"pos_f1 {(2*(tp/(tp+fp))*(tp/(tp+fn)))/((tp/(tp+fp))+(tp/(tp+fn)))}\")\n",
    "print(f\"neg_precision {tn/(tn+fn)}\")\n",
    "print(f\"neg_recall {tn/(tn+fp)}\")\n",
    "print(f\"neg_f1 {(2*(tn/(tn+fn))*(tn/(tn+fp)))/((tn/(tn+fn))+(tn/(tn+fp)))}\")"
   ]
  },
  {
   "cell_type": "code",
   "execution_count": 37,
   "id": "b5042a19",
   "metadata": {},
   "outputs": [
    {
     "name": "stdout",
     "output_type": "stream",
     "text": [
      "total 236\n",
      "tp 4\n",
      "fp 3\n",
      "tn 129\n",
      "fn 100\n",
      "pos_precision 0.5714285714285714\n",
      "pos_recall 0.038461538461538464\n",
      "pos_f1 0.07207207207207209\n",
      "neg_precision 0.5633187772925764\n",
      "neg_recall 0.9772727272727273\n",
      "neg_f1 0.7146814404432132\n"
     ]
    }
   ],
   "source": [
    "common_pred=0\n",
    "tp=0\n",
    "fp=0\n",
    "tn=0\n",
    "fn=0\n",
    "for i in range(len(sentiment_test_labels)):\n",
    "    if sentiment_test_labels[i]>0.99616  and prompt1_test_labels[i]>0.9999758 and test_labels[i]==1:\n",
    "        tp+=1\n",
    "    elif sentiment_test_labels[i]>0.99616 and  prompt1_test_labels[i]>0.9999758 and test_labels[i]==0:\n",
    "        fp+=1\n",
    "    elif sentiment_test_labels[i]<=0.99616  and prompt1_test_labels[i]<=0.9999758 and test_labels[i]==0:\n",
    "        tn+=1\n",
    "    elif sentiment_test_labels[i]<=0.99616  and prompt1_test_labels[i]<=0.9999758 and test_labels[i]==1:\n",
    "        fn+=1\n",
    "# and prompt1_test_labels[i]>0.9999758 and  \n",
    "print(f\"total {tp+fp+tn+fn}\")\n",
    "print(f\"tp {tp}\")\n",
    "print(f\"fp {fp}\")\n",
    "print(f\"tn {tn}\")\n",
    "print(f\"fn {fn}\")\n",
    "print(f\"pos_precision {tp/(tp+fp)}\")\n",
    "print(f\"pos_recall {tp/(tp+fn)}\")\n",
    "print(f\"pos_f1 {(2*(tp/(tp+fp))*(tp/(tp+fn)))/((tp/(tp+fp))+(tp/(tp+fn)))}\")\n",
    "print(f\"neg_precision {tn/(tn+fn)}\")\n",
    "print(f\"neg_recall {tn/(tn+fp)}\")\n",
    "print(f\"neg_f1 {(2*(tn/(tn+fn))*(tn/(tn+fp)))/((tn/(tn+fn))+(tn/(tn+fp)))}\")"
   ]
  },
  {
   "cell_type": "code",
   "execution_count": 36,
   "id": "4a7de465",
   "metadata": {},
   "outputs": [
    {
     "name": "stdout",
     "output_type": "stream",
     "text": [
      "total 240\n",
      "tp 6\n",
      "fp 4\n",
      "tn 129\n",
      "fn 101\n",
      "pos_precision 0.6\n",
      "pos_recall 0.056074766355140186\n",
      "pos_f1 0.10256410256410257\n",
      "neg_precision 0.5608695652173913\n",
      "neg_recall 0.9699248120300752\n",
      "neg_f1 0.7107438016528926\n"
     ]
    }
   ],
   "source": [
    "common_pred=0\n",
    "tp=0\n",
    "fp=0\n",
    "tn=0\n",
    "fn=0\n",
    "for i in range(len(sentiment_test_labels)):\n",
    "    if prompt1_test_labels[i]>0.9999758  and prompt2_test_labels[i]>0.99999 and test_labels[i]==1:\n",
    "        tp+=1\n",
    "    elif prompt1_test_labels[i]>0.9999758 and  prompt2_test_labels[i]>0.99999 and test_labels[i]==0:\n",
    "        fp+=1\n",
    "    elif prompt1_test_labels[i]<=0.9999758  and prompt2_test_labels[i]<=0.99999 and test_labels[i]==0:\n",
    "        tn+=1\n",
    "    elif prompt1_test_labels[i]<=0.9999758 and prompt2_test_labels[i]<=0.99999 and test_labels[i]==1:\n",
    "        fn+=1\n",
    "# and prompt1_test_labels[i]>0.9999758 and  \n",
    "print(f\"total {tp+fp+tn+fn}\")\n",
    "print(f\"tp {tp}\")\n",
    "print(f\"fp {fp}\")\n",
    "print(f\"tn {tn}\")\n",
    "print(f\"fn {fn}\")\n",
    "print(f\"pos_precision {tp/(tp+fp)}\")\n",
    "print(f\"pos_recall {tp/(tp+fn)}\")\n",
    "print(f\"pos_f1 {(2*(tp/(tp+fp))*(tp/(tp+fn)))/((tp/(tp+fp))+(tp/(tp+fn)))}\")\n",
    "print(f\"neg_precision {tn/(tn+fn)}\")\n",
    "print(f\"neg_recall {tn/(tn+fp)}\")\n",
    "print(f\"neg_f1 {(2*(tn/(tn+fn))*(tn/(tn+fp)))/((tn/(tn+fn))+(tn/(tn+fp)))}\")"
   ]
  },
  {
   "cell_type": "code",
   "execution_count": null,
   "id": "66d70532",
   "metadata": {},
   "outputs": [],
   "source": [
    "common_pred=0\n",
    "tp=0\n",
    "fp=0\n",
    "tn=0\n",
    "fn=0\n",
    "for i in range(len(sentiment_test_labels)):\n",
    "    if sentiment_test_labels[i]>0.99616  and prompt2_test_labels[i]>0.99999 and test_labels[i]==1:\n",
    "        tp+=1\n",
    "    elif sentiment_test_labels[i]>0.99616 and  prompt2_test_labels[i]>0.99999 and test_labels[i]==0:\n",
    "        fp+=1\n",
    "    elif sentiment_test_labels[i]<=0.99616  and prompt2_test_labels[i]<=0.99999 and test_labels[i]==0:\n",
    "        tn+=1\n",
    "    elif sentiment_test_labels[i]<=0.99616  and prompt2_test_labels[i]<=0.99999 and test_labels[i]==1:\n",
    "        fn+=1\n",
    "# and prompt1_test_labels[i]>0.9999758 and  \n",
    "print(f\"total {tp+fp+tn+fn}\")\n",
    "print(f\"tp {tp}\")\n",
    "print(f\"fp {fp}\")\n",
    "print(f\"tn {tn}\")\n",
    "print(f\"fn {fn}\")\n",
    "print(f\"pos_precision {tp/(tp+fp)}\")\n",
    "print(f\"pos_recall {tp/(tp+fn)}\")\n",
    "print(f\"pos_f1 {(2*(tp/(tp+fp))*(tp/(tp+fn)))/((tp/(tp+fp))+(tp/(tp+fn)))}\")\n",
    "print(f\"neg_precision {tn/(tn+fn)}\")\n",
    "print(f\"neg_recall {tn/(tn+fp)}\")\n",
    "print(f\"neg_f1 {(2*(tn/(tn+fn))*(tn/(tn+fp)))/((tn/(tn+fn))+(tn/(tn+fp)))}\")"
   ]
  },
  {
   "cell_type": "code",
   "execution_count": 21,
   "id": "0eebcc89",
   "metadata": {},
   "outputs": [
    {
     "name": "stdout",
     "output_type": "stream",
     "text": [
      "total 286\n",
      "tp 19\n",
      "fp 5\n",
      "tn 138\n",
      "fn 124\n",
      "pos_precision 0.7916666666666666\n",
      "pos_recall 0.13286713286713286\n",
      "pos_f1 0.22754491017964074\n",
      "neg_precision 0.5267175572519084\n",
      "neg_recall 0.965034965034965\n",
      "neg_f1 0.6814814814814815\n"
     ]
    }
   ],
   "source": [
    "common_pred=0\n",
    "tp=0\n",
    "fp=0\n",
    "tn=0\n",
    "fn=0\n",
    "for i in range(len(sentiment_test_labels)):\n",
    "    if sentiment_test_labels[i]>0.99616 and test_labels[i]==1:\n",
    "        tp+=1\n",
    "    elif sentiment_test_labels[i]>0.99616  and test_labels[i]==0:\n",
    "        fp+=1\n",
    "    elif sentiment_test_labels[i]<=0.99616 and test_labels[i]==0:\n",
    "        tn+=1\n",
    "    elif sentiment_test_labels[i]<=0.99616  and test_labels[i]==1:\n",
    "        fn+=1\n",
    "# and prompt1_test_labels[i]>0.9999758 and  \n",
    "print(f\"total {tp+fp+tn+fn}\")\n",
    "print(f\"tp {tp}\")\n",
    "print(f\"fp {fp}\")\n",
    "print(f\"tn {tn}\")\n",
    "print(f\"fn {fn}\")\n",
    "print(f\"pos_precision {tp/(tp+fp)}\")\n",
    "print(f\"pos_recall {tp/(tp+fn)}\")\n",
    "print(f\"pos_f1 {(2*(tp/(tp+fp))*(tp/(tp+fn)))/((tp/(tp+fp))+(tp/(tp+fn)))}\")\n",
    "print(f\"neg_precision {tn/(tn+fn)}\")\n",
    "print(f\"neg_recall {tn/(tn+fp)}\")\n",
    "print(f\"neg_f1 {(2*(tn/(tn+fn))*(tn/(tn+fp)))/((tn/(tn+fn))+(tn/(tn+fp)))}\")"
   ]
  },
  {
   "cell_type": "code",
   "execution_count": null,
   "id": "cafec93c",
   "metadata": {},
   "outputs": [],
   "source": [
    "common_pred=0\n",
    "tp=0\n",
    "fp=0\n",
    "tn=0\n",
    "fn=0\n",
    "for i in range(len(sentiment_test_labels)):\n",
    "    if sentiment_test_labels[i]>0.99616 and test_labels[i]==1:\n",
    "        tp+=1\n",
    "    elif sentiment_test_labels[i]>0.99616  and test_labels[i]==0:\n",
    "        fp+=1\n",
    "    elif sentiment_test_labels[i]<=0.99616 and test_labels[i]==0:\n",
    "        tn+=1\n",
    "    elif sentiment_test_labels[i]<=0.99616  and test_labels[i]==1:\n",
    "        fn+=1\n",
    "# and prompt1_test_labels[i]>0.9999758 and  \n",
    "print(f\"total {tp+fp+tn+fn}\")\n",
    "print(f\"tp {tp}\")\n",
    "print(f\"fp {fp}\")\n",
    "print(f\"tn {tn}\")\n",
    "print(f\"fn {fn}\")\n",
    "print(f\"pos_precision {tp/(tp+fp)}\")\n",
    "print(f\"pos_recall {tp/(tp+fn)}\")\n",
    "print(f\"pos_f1 {(2*(tp/(tp+fp))*(tp/(tp+fn)))/((tp/(tp+fp))+(tp/(tp+fn)))}\")\n",
    "print(f\"neg_precision {tn/(tn+fn)}\")\n",
    "print(f\"neg_recall {tn/(tn+fp)}\")\n",
    "print(f\"neg_f1 {(2*(tn/(tn+fn))*(tn/(tn+fp)))/((tn/(tn+fn))+(tn/(tn+fp)))}\")"
   ]
  },
  {
   "cell_type": "markdown",
   "id": "3efb29db",
   "metadata": {},
   "source": [
    "eval"
   ]
  },
  {
   "cell_type": "code",
   "execution_count": 21,
   "id": "8030a49c",
   "metadata": {},
   "outputs": [
    {
     "name": "stdout",
     "output_type": "stream",
     "text": [
      "common_pred: 1788\n",
      "tp 1069\n",
      "fp 570\n",
      "tn 127\n",
      "fn 22\n"
     ]
    }
   ],
   "source": [
    "#using all the models\n",
    "common_pred=0\n",
    "pos_ind=[]\n",
    "pos=0\n",
    "neg=0\n",
    "tp=0\n",
    "fp=0\n",
    "tn=0\n",
    "fn=0\n",
    "for i in range(len(sentiment_test_labels)):\n",
    "    if sentiment_test_labels[i]==prompt1_test_labels[i] and prompt1_test_labels[i]==prompt2_test_labels[i]:\n",
    "        common_pred+=1\n",
    "        if sentiment_test_labels[i]==1 and test_labels[i]==1:\n",
    "#             pos_ind.append(i)\n",
    "#             pos+=1\n",
    "              tp+=1\n",
    "        elif sentiment_test_labels[i]==1 and test_labels[i]==0:\n",
    "              fp+=1\n",
    "        elif sentiment_test_labels[i]==0 and test_labels[i]==0:\n",
    "              tn+=1\n",
    "        elif sentiment_test_labels[i]==0 and test_labels[i]==1:\n",
    "              fn+=1\n",
    "print(f\"common_pred: {common_pred}\")\n",
    "# print(f\"pos: {pos}; len_pos_ind:{len(pos_ind)}\")\n",
    "# print(f\"neg: {neg}\")\n",
    "print(f\"tp {tp}\")\n",
    "print(f\"fp {fp}\")\n",
    "print(f\"tn {tn}\")\n",
    "print(f\"fn {fn}\")"
   ]
  },
  {
   "cell_type": "code",
   "execution_count": 22,
   "id": "288cff31",
   "metadata": {},
   "outputs": [
    {
     "name": "stdout",
     "output_type": "stream",
     "text": [
      "pos_precision 0.6522269676632093\n",
      "pos_recall 0.9798350137488543\n",
      "pos_f1 0.7831501831501831\n"
     ]
    }
   ],
   "source": [
    "print(f\"pos_precision {tp/(tp+fp)}\")\n",
    "print(f\"pos_recall {tp/(tp+fn)}\")\n",
    "print(f\"pos_f1 {(2*(tp/(tp+fp))*(tp/(tp+fn)))/((tp/(tp+fp))+(tp/(tp+fn)))}\")"
   ]
  },
  {
   "cell_type": "code",
   "execution_count": 23,
   "id": "f76eb6e4",
   "metadata": {},
   "outputs": [
    {
     "name": "stdout",
     "output_type": "stream",
     "text": [
      "neg_precision 0.8523489932885906\n",
      "neg_recall 0.18220946915351507\n",
      "neg_f1 0.3002364066193854\n"
     ]
    }
   ],
   "source": [
    "print(f\"neg_precision {tn/(tn+fn)}\")\n",
    "print(f\"neg_recall {tn/(tn+fp)}\")\n",
    "print(f\"neg_f1 {(2*(tn/(tn+fn))*(tn/(tn+fp)))/((tn/(tn+fn))+(tn/(tn+fp)))}\")"
   ]
  },
  {
   "cell_type": "markdown",
   "id": "1607f1a7",
   "metadata": {},
   "source": [
    "val"
   ]
  },
  {
   "cell_type": "code",
   "execution_count": 37,
   "id": "26308121",
   "metadata": {},
   "outputs": [
    {
     "name": "stdout",
     "output_type": "stream",
     "text": [
      "common_pred: 220\n",
      "tp 118\n",
      "fp 82\n",
      "tn 17\n",
      "fn 3\n"
     ]
    }
   ],
   "source": [
    "#using all the models\n",
    "common_pred=0\n",
    "pos_ind=[]\n",
    "pos=0\n",
    "neg=0\n",
    "tp=0\n",
    "fp=0\n",
    "tn=0\n",
    "fn=0\n",
    "for i in range(len(sentiment_test_labels)):\n",
    "    if sentiment_test_labels[i]==prompt1_test_labels[i] and prompt1_test_labels[i]==prompt2_test_labels[i]:\n",
    "        common_pred+=1\n",
    "        if sentiment_test_labels[i]==1 and test_labels[i]==1:\n",
    "#             pos_ind.append(i)\n",
    "#             pos+=1\n",
    "              tp+=1\n",
    "        elif sentiment_test_labels[i]==1 and test_labels[i]==0:\n",
    "              fp+=1\n",
    "        elif sentiment_test_labels[i]==0 and test_labels[i]==0:\n",
    "              tn+=1\n",
    "        elif sentiment_test_labels[i]==0 and test_labels[i]==1:\n",
    "              fn+=1\n",
    "print(f\"common_pred: {common_pred}\")\n",
    "# print(f\"pos: {pos}; len_pos_ind:{len(pos_ind)}\")\n",
    "# print(f\"neg: {neg}\")\n",
    "print(f\"tp {tp}\")\n",
    "print(f\"fp {fp}\")\n",
    "print(f\"tn {tn}\")\n",
    "print(f\"fn {fn}\")"
   ]
  },
  {
   "cell_type": "code",
   "execution_count": 38,
   "id": "f83cc56b",
   "metadata": {},
   "outputs": [
    {
     "name": "stdout",
     "output_type": "stream",
     "text": [
      "pos_precision 0.59\n",
      "pos_recall 0.9752066115702479\n",
      "pos_f1 0.7352024922118379\n"
     ]
    }
   ],
   "source": [
    "print(f\"pos_precision {tp/(tp+fp)}\")\n",
    "print(f\"pos_recall {tp/(tp+fn)}\")\n",
    "print(f\"pos_f1 {(2*(tp/(tp+fp))*(tp/(tp+fn)))/((tp/(tp+fp))+(tp/(tp+fn)))}\")"
   ]
  },
  {
   "cell_type": "code",
   "execution_count": 39,
   "id": "01e9d18d",
   "metadata": {},
   "outputs": [
    {
     "name": "stdout",
     "output_type": "stream",
     "text": [
      "neg_precision 0.85\n",
      "neg_recall 0.1717171717171717\n",
      "neg_f1 0.2857142857142857\n"
     ]
    }
   ],
   "source": [
    "print(f\"neg_precision {tn/(tn+fn)}\")\n",
    "print(f\"neg_recall {tn/(tn+fp)}\")\n",
    "print(f\"neg_f1 {(2*(tn/(tn+fn))*(tn/(tn+fp)))/((tn/(tn+fn))+(tn/(tn+fp)))}\")"
   ]
  },
  {
   "cell_type": "code",
   "execution_count": 40,
   "id": "f1b3f594",
   "metadata": {},
   "outputs": [
    {
     "name": "stdout",
     "output_type": "stream",
     "text": [
      "common_pred: 0\n",
      "tp 126\n",
      "fp 95\n",
      "tn 48\n",
      "fn 17\n"
     ]
    }
   ],
   "source": [
    "#using all the models\n",
    "common_pred=0\n",
    "pos_ind=[]\n",
    "pos=0\n",
    "neg=0\n",
    "tp=0\n",
    "fp=0\n",
    "tn=0\n",
    "fn=0\n",
    "for i in range(len(sentiment_test_labels)):\n",
    "        if sentiment_test_labels[i]==1 and test_labels[i]==1:\n",
    "#             pos_ind.append(i)\n",
    "#             pos+=1\n",
    "              tp+=1\n",
    "        elif sentiment_test_labels[i]==1 and test_labels[i]==0:\n",
    "              fp+=1\n",
    "        elif sentiment_test_labels[i]==0 and test_labels[i]==0:\n",
    "              tn+=1\n",
    "        elif sentiment_test_labels[i]==0 and test_labels[i]==1:\n",
    "              fn+=1\n",
    "print(f\"common_pred: {common_pred}\")\n",
    "# print(f\"pos: {pos}; len_pos_ind:{len(pos_ind)}\")\n",
    "# print(f\"neg: {neg}\")\n",
    "print(f\"tp {tp}\")\n",
    "print(f\"fp {fp}\")\n",
    "print(f\"tn {tn}\")\n",
    "print(f\"fn {fn}\")"
   ]
  },
  {
   "cell_type": "code",
   "execution_count": 41,
   "id": "7381feb2",
   "metadata": {},
   "outputs": [
    {
     "name": "stdout",
     "output_type": "stream",
     "text": [
      "pos_precision 0.5701357466063348\n",
      "pos_recall 0.8811188811188811\n",
      "pos_f1 0.6923076923076924\n"
     ]
    }
   ],
   "source": [
    "print(f\"pos_precision {tp/(tp+fp)}\")\n",
    "print(f\"pos_recall {tp/(tp+fn)}\")\n",
    "print(f\"pos_f1 {(2*(tp/(tp+fp))*(tp/(tp+fn)))/((tp/(tp+fp))+(tp/(tp+fn)))}\")"
   ]
  },
  {
   "cell_type": "code",
   "execution_count": 42,
   "id": "0dc871a8",
   "metadata": {},
   "outputs": [
    {
     "name": "stdout",
     "output_type": "stream",
     "text": [
      "neg_precision 0.7384615384615385\n",
      "neg_recall 0.3356643356643357\n",
      "neg_f1 0.4615384615384616\n"
     ]
    }
   ],
   "source": [
    "print(f\"neg_precision {tn/(tn+fn)}\")\n",
    "print(f\"neg_recall {tn/(tn+fp)}\")\n",
    "print(f\"neg_f1 {(2*(tn/(tn+fn))*(tn/(tn+fp)))/((tn/(tn+fn))+(tn/(tn+fp)))}\")"
   ]
  },
  {
   "cell_type": "code",
   "execution_count": null,
   "id": "0e885399",
   "metadata": {},
   "outputs": [],
   "source": []
  },
  {
   "cell_type": "code",
   "execution_count": null,
   "id": "123f2649",
   "metadata": {},
   "outputs": [],
   "source": []
  },
  {
   "cell_type": "code",
   "execution_count": null,
   "id": "41526190",
   "metadata": {},
   "outputs": [],
   "source": []
  },
  {
   "cell_type": "code",
   "execution_count": null,
   "id": "5e09192f",
   "metadata": {},
   "outputs": [],
   "source": []
  },
  {
   "cell_type": "code",
   "execution_count": null,
   "id": "f9521aa4",
   "metadata": {},
   "outputs": [],
   "source": []
  },
  {
   "cell_type": "code",
   "execution_count": 30,
   "id": "ff9b5944",
   "metadata": {},
   "outputs": [
    {
     "name": "stdout",
     "output_type": "stream",
     "text": [
      "111\n",
      "313\n"
     ]
    }
   ],
   "source": [
    "#using all the models\n",
    "\n",
    "sn=0\n",
    "p1n=0\n",
    "p2n=0\n",
    "\n",
    "for i in range(len(sentiment_test_labels)):\n",
    "    if sentiment_test_labels[i]==prompt1_test_labels[i] and prompt1_test_labels[i]==prompt2_test_labels[i]:\n",
    "        pass\n",
    "    else:\n",
    "        if test_labels[i]==1 and prompt1_test_labels[i]==1:\n",
    "            p1n+=1\n",
    "        if test_labels[i]==0 and prompt1_test_labels[i]==1:\n",
    "            p2n+=1\n",
    "            \n",
    "# print(sn)\n",
    "print(p1n)\n",
    "print(p2n)"
   ]
  },
  {
   "cell_type": "code",
   "execution_count": 25,
   "id": "47ab2f89",
   "metadata": {},
   "outputs": [
    {
     "data": {
      "text/plain": [
       "498"
      ]
     },
     "execution_count": 25,
     "metadata": {},
     "output_type": "execute_result"
    }
   ],
   "source": [
    "2286-1788 #363 ground truth negs 165pos"
   ]
  },
  {
   "cell_type": "code",
   "execution_count": 26,
   "id": "fa66a800",
   "metadata": {},
   "outputs": [
    {
     "name": "stdout",
     "output_type": "stream",
     "text": [
      "1226\n"
     ]
    }
   ],
   "source": [
    "c=0\n",
    "for i in range(len(test_labels)):\n",
    "    if test_labels[i]==1:\n",
    "        c+=1\n",
    "print(c)"
   ]
  },
  {
   "cell_type": "code",
   "execution_count": null,
   "id": "bc9d6c4a",
   "metadata": {},
   "outputs": [],
   "source": []
  },
  {
   "cell_type": "markdown",
   "id": "283b27e0",
   "metadata": {},
   "source": [
    "rough"
   ]
  },
  {
   "cell_type": "code",
   "execution_count": null,
   "id": "2d521313",
   "metadata": {},
   "outputs": [],
   "source": []
  },
  {
   "cell_type": "code",
   "execution_count": null,
   "id": "302fa7d8",
   "metadata": {},
   "outputs": [],
   "source": []
  },
  {
   "cell_type": "code",
   "execution_count": null,
   "id": "eea53d6a",
   "metadata": {},
   "outputs": [],
   "source": []
  },
  {
   "cell_type": "code",
   "execution_count": 31,
   "id": "a1481b90",
   "metadata": {},
   "outputs": [
    {
     "name": "stdout",
     "output_type": "stream",
     "text": [
      "common_pred: 2025 ; common_pred: 0.8858267716535433\n",
      "common_correct_pred: 1268 ; common_correct_pred: 0.5546806649168854\n",
      "f1_pos: 0.7469073888331661\n",
      "micro_f1: 0.6261728395061729\n"
     ]
    }
   ],
   "source": [
    "#using prompt1 and prompt2\n",
    "common_pred=0\n",
    "common_correct_pred=0\n",
    "tp=0\n",
    "fp=0\n",
    "tn=0\n",
    "fn=0\n",
    "for i in range(len(test_labels)):\n",
    "    if prompt1_test_labels[i]==prompt2_test_labels[i]:\n",
    "        common_pred+=1\n",
    "        if prompt1_test_labels[i]==1 and test_labels[i]==1:\n",
    "            tp+=1\n",
    "            common_correct_pred+=1\n",
    "        elif prompt1_test_labels[i]==1 and test_labels[i]==0:\n",
    "            fp+=1\n",
    "        elif prompt1_test_labels[i]==0 and test_labels[i]==0:\n",
    "            tn+=1\n",
    "            common_correct_pred+=1\n",
    "        elif prompt1_test_labels[i]==0 and test_labels[i]==1:\n",
    "            fn+=1\n",
    "        elif (prompt1_test_labels[i]==1 and test_labels[i]==1) || \n",
    "precision=tp/(tp+fp)\n",
    "recall=tp/(tp+fn)\n",
    "f1_pos=(2*precision*recall)/(precision+recall)\n",
    "\n",
    "print(f\"common_pred: {common_pred} ; common_pred: {common_pred/len(test_labels)}\")\n",
    "print(f\"common_correct_pred: {common_correct_pred} ; common_correct_pred: {common_correct_pred/len(test_labels)}\")\n",
    "print(f\"f1_pos: {f1_pos}\")\n",
    "print(f\"micro_f1: {common_correct_pred/common_pred}\")"
   ]
  },
  {
   "cell_type": "code",
   "execution_count": 32,
   "id": "9a3b5cba",
   "metadata": {},
   "outputs": [
    {
     "data": {
      "text/plain": [
       "2025"
      ]
     },
     "execution_count": 32,
     "metadata": {},
     "output_type": "execute_result"
    }
   ],
   "source": [
    "tp+fp+tn+fn"
   ]
  },
  {
   "cell_type": "code",
   "execution_count": 40,
   "id": "42035640",
   "metadata": {},
   "outputs": [
    {
     "name": "stdout",
     "output_type": "stream",
     "text": [
      "common_pred: 1908 ; common_pred: 0.8346456692913385\n",
      "common_correct_pred: 1246 ; common_correct_pred: 0.5450568678915135\n",
      "f1_pos: 0.7699791521890201\n",
      "micro_f1: 0.6530398322851153\n"
     ]
    }
   ],
   "source": [
    "#using sentiment and prompt1\n",
    "common_pred=0\n",
    "common_correct_pred=0\n",
    "tp=0\n",
    "fp=0\n",
    "tn=0\n",
    "fn=0\n",
    "for i in range(len(test_labels)):\n",
    "    if sentiment_test_labels[i]==prompt1_test_labels[i]:\n",
    "        common_pred+=1\n",
    "        if prompt1_test_labels[i]==1 and test_labels[i]==1:\n",
    "            tp+=1\n",
    "            common_correct_pred+=1\n",
    "        elif prompt1_test_labels[i]==1 and test_labels[i]==0:\n",
    "            fp+=1\n",
    "        elif prompt1_test_labels[i]==0 and test_labels[i]==0:\n",
    "            tn+=1\n",
    "            common_correct_pred+=1\n",
    "        elif prompt1_test_labels[i]==0 and test_labels[i]==1:\n",
    "            fn+=1\n",
    "precision=tp/(tp+fp)\n",
    "recall=tp/(tp+fn)\n",
    "f1_pos=(2*precision*recall)/(precision+recall)\n",
    "\n",
    "print(f\"common_pred: {common_pred} ; common_pred: {common_pred/len(test_labels)}\")\n",
    "print(f\"common_correct_pred: {common_correct_pred} ; common_correct_pred: {common_correct_pred/len(test_labels)}\")\n",
    "print(f\"f1_pos: {f1_pos}\")\n",
    "print(f\"micro_f1: {common_correct_pred/common_pred}\")"
   ]
  },
  {
   "cell_type": "code",
   "execution_count": 41,
   "id": "0e95729a",
   "metadata": {},
   "outputs": [
    {
     "data": {
      "text/plain": [
       "1908"
      ]
     },
     "execution_count": 41,
     "metadata": {},
     "output_type": "execute_result"
    }
   ],
   "source": [
    "tp+tn+fp+fn"
   ]
  },
  {
   "cell_type": "code",
   "execution_count": 42,
   "id": "d2bbeca8",
   "metadata": {},
   "outputs": [
    {
     "name": "stdout",
     "output_type": "stream",
     "text": [
      "common_pred: 1929 ; common_pred: 0.8438320209973753\n",
      "common_correct_pred: 1298 ; common_correct_pred: 0.5678040244969379\n",
      "f1_pos: 0.7739161590827662\n",
      "micro_f1: 0.6728875064800415\n"
     ]
    }
   ],
   "source": [
    "#using sentiment and prompt2\n",
    "common_pred=0\n",
    "common_correct_pred=0\n",
    "tp=0\n",
    "fp=0\n",
    "tn=0\n",
    "fn=0\n",
    "for i in range(len(test_labels)):\n",
    "    if sentiment_test_labels[i]==prompt2_test_labels[i]:\n",
    "        common_pred+=1\n",
    "        if prompt2_test_labels[i]==1 and test_labels[i]==1:\n",
    "            tp+=1\n",
    "            common_correct_pred+=1\n",
    "        elif prompt2_test_labels[i]==1 and test_labels[i]==0:\n",
    "            fp+=1\n",
    "        elif prompt2_test_labels[i]==0 and test_labels[i]==0:\n",
    "            tn+=1\n",
    "            common_correct_pred+=1\n",
    "        elif prompt2_test_labels[i]==0 and test_labels[i]==1:\n",
    "            fn+=1\n",
    "precision=tp/(tp+fp)\n",
    "recall=tp/(tp+fn)\n",
    "f1_pos=(2*precision*recall)/(precision+recall)\n",
    "\n",
    "print(f\"common_pred: {common_pred} ; common_pred: {common_pred/len(test_labels)}\")\n",
    "print(f\"common_correct_pred: {common_correct_pred} ; common_correct_pred: {common_correct_pred/len(test_labels)}\")\n",
    "print(f\"f1_pos: {f1_pos}\")\n",
    "print(f\"micro_f1: {common_correct_pred/common_pred}\")"
   ]
  },
  {
   "cell_type": "code",
   "execution_count": 43,
   "id": "55b39334",
   "metadata": {},
   "outputs": [
    {
     "data": {
      "text/plain": [
       "1929"
      ]
     },
     "execution_count": 43,
     "metadata": {},
     "output_type": "execute_result"
    }
   ],
   "source": [
    "tp+fp+tn+fn"
   ]
  },
  {
   "cell_type": "code",
   "execution_count": 18,
   "id": "6112ea20",
   "metadata": {},
   "outputs": [
    {
     "name": "stdout",
     "output_type": "stream",
     "text": [
      "common_correct_pred: 383 ; common_correct_pred: 0.3613207547169811\n",
      "common_correct_pred: 1130 ; common_correct_pred: 0.9216965742251223\n"
     ]
    }
   ],
   "source": [
    "#using all the models\n",
    "common_pred=0\n",
    "common_correct_pred=0\n",
    "tp=0\n",
    "fp=0\n",
    "tn=0\n",
    "fn=0\n",
    "temp=0\n",
    "pos=0\n",
    "neg=0\n",
    "common_correct_pred_pos=0\n",
    "common_correct_pred_neg=0\n",
    "for i in range(len(test_labels)):\n",
    "    if test_labels[i]==0:\n",
    "        pos+=1\n",
    "    if sentiment_test_labels[i]==0 and test_labels[i]==0:\n",
    "        common_correct_pred_pos+=1\n",
    "    if test_labels[i]==1:\n",
    "        neg+=1\n",
    "    if sentiment_test_labels[i]==1 and test_labels[i]==1:\n",
    "        common_correct_pred_neg+=1\n",
    "#         elif sentiment_test_labels[i]==1 and test_labels[i]==0:\n",
    "#             fp+=1\n",
    "#         elif sentiment_test_labels[i]==0 and test_labels[i]==0:\n",
    "#             tn+=1\n",
    "#             common_correct_pred+=1\n",
    "#         elif sentiment_test_labels[i]==0 and test_labels[i]==1:\n",
    "#             fn+=1\n",
    "# precision=tp/(tp+fp)\n",
    "# recall=tp/(tp+fn)\n",
    "# f1_pos=(2*precision*recall)/(precision+recall)\n",
    "\n",
    "# print(f\"common_pred: {common_pred} ; common_pred: {common_pred/temp}\")\n",
    "print(f\"common_correct_pred: {common_correct_pred_pos} ; common_correct_pred: {common_correct_pred_pos/pos}\")\n",
    "print(f\"common_correct_pred: {common_correct_pred_neg} ; common_correct_pred: {common_correct_pred_neg/neg}\")\n",
    "# print(f\"f1_pos: {f1_pos}\")\n",
    "# print(f\"micro_f1: {common_correct_pred/common_pred}\")"
   ]
  },
  {
   "cell_type": "code",
   "execution_count": 19,
   "id": "5d0d570e",
   "metadata": {},
   "outputs": [
    {
     "name": "stdout",
     "output_type": "stream",
     "text": [
      "common_correct_pred: 177 ; common_correct_pred: 0.1669811320754717\n",
      "common_correct_pred: 1180 ; common_correct_pred: 0.9624796084828712\n"
     ]
    }
   ],
   "source": [
    "#using all the models\n",
    "common_pred=0\n",
    "common_correct_pred=0\n",
    "tp=0\n",
    "fp=0\n",
    "tn=0\n",
    "fn=0\n",
    "temp=0\n",
    "pos=0\n",
    "neg=0\n",
    "common_correct_pred_pos=0\n",
    "common_correct_pred_neg=0\n",
    "for i in range(len(test_labels)):\n",
    "    if test_labels[i]==0:\n",
    "        pos+=1\n",
    "    if prompt1_test_labels[i]==0 and test_labels[i]==0:\n",
    "        common_correct_pred_pos+=1\n",
    "    if test_labels[i]==1:\n",
    "        neg+=1\n",
    "    if prompt1_test_labels[i]==1 and test_labels[i]==1:\n",
    "        common_correct_pred_neg+=1\n",
    "#         elif sentiment_test_labels[i]==1 and test_labels[i]==0:\n",
    "#             fp+=1\n",
    "#         elif sentiment_test_labels[i]==0 and test_labels[i]==0:\n",
    "#             tn+=1\n",
    "#             common_correct_pred+=1\n",
    "#         elif sentiment_test_labels[i]==0 and test_labels[i]==1:\n",
    "#             fn+=1\n",
    "# precision=tp/(tp+fp)\n",
    "# recall=tp/(tp+fn)\n",
    "# f1_pos=(2*precision*recall)/(precision+recall)\n",
    "\n",
    "# print(f\"common_pred: {common_pred} ; common_pred: {common_pred/temp}\")\n",
    "print(f\"common_correct_pred: {common_correct_pred_pos} ; common_correct_pred: {common_correct_pred_pos/pos}\")\n",
    "print(f\"common_correct_pred: {common_correct_pred_neg} ; common_correct_pred: {common_correct_pred_neg/neg}\")\n",
    "# print(f\"f1_pos: {f1_pos}\")\n",
    "# print(f\"micro_f1: {common_correct_pred/common_pred}\")"
   ]
  },
  {
   "cell_type": "code",
   "execution_count": 20,
   "id": "34044d86",
   "metadata": {},
   "outputs": [
    {
     "name": "stdout",
     "output_type": "stream",
     "text": [
      "common_correct_pred: 310 ; common_correct_pred: 0.29245283018867924\n",
      "common_correct_pred: 1130 ; common_correct_pred: 0.9216965742251223\n"
     ]
    }
   ],
   "source": [
    "#using all the models\n",
    "common_pred=0\n",
    "common_correct_pred=0\n",
    "tp=0\n",
    "fp=0\n",
    "tn=0\n",
    "fn=0\n",
    "temp=0\n",
    "pos=0\n",
    "neg=0\n",
    "common_correct_pred_pos=0\n",
    "common_correct_pred_neg=0\n",
    "for i in range(len(test_labels)):\n",
    "    if test_labels[i]==0:\n",
    "        pos+=1\n",
    "    if prompt2_test_labels[i]==0 and test_labels[i]==0:\n",
    "        common_correct_pred_pos+=1\n",
    "    if test_labels[i]==1:\n",
    "        neg+=1\n",
    "    if prompt2_test_labels[i]==1 and test_labels[i]==1:\n",
    "        common_correct_pred_neg+=1\n",
    "#         elif sentiment_test_labels[i]==1 and test_labels[i]==0:\n",
    "#             fp+=1\n",
    "#         elif sentiment_test_labels[i]==0 and test_labels[i]==0:\n",
    "#             tn+=1\n",
    "#             common_correct_pred+=1\n",
    "#         elif sentiment_test_labels[i]==0 and test_labels[i]==1:\n",
    "#             fn+=1\n",
    "# precision=tp/(tp+fp)\n",
    "# recall=tp/(tp+fn)\n",
    "# f1_pos=(2*precision*recall)/(precision+recall)\n",
    "\n",
    "# print(f\"common_pred: {common_pred} ; common_pred: {common_pred/temp}\")\n",
    "print(f\"common_correct_pred: {common_correct_pred_pos} ; common_correct_pred: {common_correct_pred_pos/pos}\")\n",
    "print(f\"common_correct_pred: {common_correct_pred_neg} ; common_correct_pred: {common_correct_pred_neg/neg}\")\n",
    "# print(f\"f1_pos: {f1_pos}\")\n",
    "# print(f\"micro_f1: {common_correct_pred/common_pred}\")"
   ]
  },
  {
   "cell_type": "code",
   "execution_count": null,
   "id": "1ff191a7",
   "metadata": {},
   "outputs": [],
   "source": [
    "#using all the models\n",
    "common_pred=0\n",
    "common_correct_pred=0\n",
    "tp=0\n",
    "fp=0\n",
    "tn=0\n",
    "fn=0\n",
    "temp=0\n",
    "pos=0\n",
    "neg=0\n",
    "common_correct_pred_pos=0\n",
    "common_correct_pred_neg=0\n",
    "for i in range(len(test_labels)):\n",
    "    if test_labels[i]==0:\n",
    "        pos+=1\n",
    "    if prompt1_test_labels[i]==0 and prompt2_test_labels==0 and test_labels[i]==0:\n",
    "        common_correct_pred_pos+=1\n",
    "    if test_labels[i]==1:\n",
    "        neg+=1\n",
    "    if prompt1_test_labels[i]==1 and test_labels[i]==1:\n",
    "        common_correct_pred_neg+=1\n",
    "#         elif sentiment_test_labels[i]==1 and test_labels[i]==0:\n",
    "#             fp+=1\n",
    "#         elif sentiment_test_labels[i]==0 and test_labels[i]==0:\n",
    "#             tn+=1\n",
    "#             common_correct_pred+=1\n",
    "#         elif sentiment_test_labels[i]==0 and test_labels[i]==1:\n",
    "#             fn+=1\n",
    "# precision=tp/(tp+fp)\n",
    "# recall=tp/(tp+fn)\n",
    "# f1_pos=(2*precision*recall)/(precision+recall)\n",
    "\n",
    "# print(f\"common_pred: {common_pred} ; common_pred: {common_pred/temp}\")\n",
    "print(f\"common_correct_pred: {common_correct_pred_pos} ; common_correct_pred: {common_correct_pred_pos/pos}\")\n",
    "print(f\"common_correct_pred: {common_correct_pred_neg} ; common_correct_pred: {common_correct_pred_neg/neg}\")\n",
    "# print(f\"f1_pos: {f1_pos}\")\n",
    "# print(f\"micro_f1: {common_correct_pred/common_pred}\")"
   ]
  },
  {
   "cell_type": "code",
   "execution_count": null,
   "id": "8e5ad3a6",
   "metadata": {},
   "outputs": [],
   "source": []
  },
  {
   "cell_type": "code",
   "execution_count": null,
   "id": "3203a314",
   "metadata": {},
   "outputs": [],
   "source": []
  },
  {
   "cell_type": "code",
   "execution_count": null,
   "id": "20b32676",
   "metadata": {},
   "outputs": [],
   "source": []
  },
  {
   "cell_type": "code",
   "execution_count": null,
   "id": "618a9c29",
   "metadata": {},
   "outputs": [],
   "source": []
  },
  {
   "cell_type": "code",
   "execution_count": null,
   "id": "345265c9",
   "metadata": {},
   "outputs": [],
   "source": []
  }
 ],
 "metadata": {
  "kernelspec": {
   "display_name": "Python 3",
   "language": "python",
   "name": "python3"
  },
  "language_info": {
   "codemirror_mode": {
    "name": "ipython",
    "version": 3
   },
   "file_extension": ".py",
   "mimetype": "text/x-python",
   "name": "python",
   "nbconvert_exporter": "python",
   "pygments_lexer": "ipython3",
   "version": "3.9.5"
  }
 },
 "nbformat": 4,
 "nbformat_minor": 5
}
